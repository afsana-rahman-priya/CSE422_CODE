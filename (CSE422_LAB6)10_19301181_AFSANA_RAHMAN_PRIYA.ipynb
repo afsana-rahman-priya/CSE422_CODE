{
  "nbformat": 4,
  "nbformat_minor": 0,
  "metadata": {
    "colab": {
      "name": "(CSE422_LAB6)10_19301181_AFSANA RAHMAN PRIYA",
      "provenance": []
    },
    "kernelspec": {
      "name": "python3",
      "display_name": "Python 3"
    },
    "language_info": {
      "name": "python"
    }
  },
  "cells": [
    {
      "cell_type": "code",
      "execution_count": null,
      "metadata": {
        "id": "Eko453lpcMTP"
      },
      "outputs": [],
      "source": [
        ""
      ]
    },
    {
      "cell_type": "markdown",
      "metadata": {
        "id": "lzS89dStTfrQ"
      },
      "source": [
        "## CSE 422 Introduction to Data Preprocessing\n",
        "---\n",
        "\n",
        "\n",
        "\n",
        "\n",
        "\n"
      ]
    },
    {
      "cell_type": "markdown",
      "metadata": {
        "id": "cAhCkRL_SscW"
      },
      "source": [
        "### What are the advantages of preprocessing the data before applying on machine learning algorithm?\n",
        "\n",
        "\"The biggest advantage of pre-processing in ML is to improve **generalizablity** of your model. Data for any ML application is collected through some ‘sensors’. These sensors can be physical devices, instruments, software programs such as web crawlers, manual surveys, etc. Due to hardware malfunctions, software glitches, instrument failures, amd human errors, noise and erroneous information may creep in that can severely affect the performance of your model. Apart from **noise**, there are several **redundant information** that needs to be removed. For e.g. while predicting whether it rains tomorrow or not, age of the person is irrelevant. In terms of text processing, there are several stop words that may be redundant for the analysis. Lastly, there may be several **outliers** present in your data, due to the way data is collected that may need to be removed to improve the performance of the classifiers.\" \n",
        "                                    \n",
        "                                            -Shehroz Khan, ML Researcher, Postdoc @U of Toronto\n"
      ]
    },
    {
      "cell_type": "markdown",
      "metadata": {
        "id": "0YYIQ5CNcZx-"
      },
      "source": [
        "Some Data Preprocessing Techniques:\n",
        "\n",
        "* Deleting duplicate and null values\n",
        "* Imputation for missing values\n",
        "* Handling Categorical Features\n",
        "* Feature Normalization/Scaling\n",
        "* Feature Engineering\n",
        "* Feature Selection"
      ]
    },
    {
      "cell_type": "code",
      "execution_count": null,
      "metadata": {
        "id": "gZPvqZUPTfrH"
      },
      "outputs": [],
      "source": [
        "#importing necessary libraries\n",
        "import pandas as pd\n",
        "import numpy as np\n"
      ]
    },
    {
      "cell_type": "markdown",
      "metadata": {
        "id": "0EvGojt9m-Yo"
      },
      "source": [
        "#Removing Null values / Handling Missing data\n",
        "\n",
        "\n"
      ]
    },
    {
      "cell_type": "code",
      "execution_count": null,
      "metadata": {
        "colab": {
          "base_uri": "https://localhost:8080/",
          "height": 502
        },
        "id": "40I_BWUeTfrS",
        "outputId": "bb8aabfe-eb6a-4612-f7e7-4df6b668786e"
      },
      "outputs": [
        {
          "output_type": "execute_result",
          "data": {
            "text/plain": [
              "     Class(species)  specimen number  Eccentricity  Aspect Ratio  Elongation  \\\n",
              "0                 1                1       0.72694        1.4742     0.32396   \n",
              "1                 1                2       0.74173        1.5257     0.36116   \n",
              "2                 1                3       0.76722        1.5725     0.38998   \n",
              "3                 1                4       0.73797        1.4597     0.35376   \n",
              "4                 1                5       0.82301        1.7707     0.44462   \n",
              "..              ...              ...           ...           ...         ...   \n",
              "335              36                6       0.37522        1.1417     0.81725   \n",
              "336              36                7       0.28064        1.0849     0.75319   \n",
              "337              36                8       0.35344        1.0329     0.78147   \n",
              "338              36                9       0.59988        1.1427     0.71532   \n",
              "339              36               10       0.47195        1.0901     0.85409   \n",
              "\n",
              "     Solidity  Stochastic Convexity  Isoperimetric Factor  \\\n",
              "0     0.98535               1.00000              0.835920   \n",
              "1     0.98152               0.99825              0.798670   \n",
              "2     0.97755               1.00000              0.808120   \n",
              "3     0.97566               1.00000              0.816970   \n",
              "4     0.97698               1.00000              0.754930   \n",
              "..        ...                   ...                   ...   \n",
              "335   0.68511               0.58772              0.125230   \n",
              "336   0.72152               0.71404              0.136860   \n",
              "337   0.70737               0.61579              0.135030   \n",
              "338   0.66101               0.47544              0.157470   \n",
              "339   0.53598               0.39649              0.078376   \n",
              "\n",
              "     Maximal Indentation Depth  Lobedness  Average Intensity  \\\n",
              "0                     0.004657   0.003947           0.047790   \n",
              "1                     0.005242   0.005002           0.024160   \n",
              "2                     0.007457   0.010121           0.011897   \n",
              "3                     0.006877   0.008607           0.015950   \n",
              "4                     0.007428   0.010042           0.007938   \n",
              "..                         ...        ...                ...   \n",
              "335                   0.091860   1.535800           0.114880   \n",
              "336                   0.078996   1.135800           0.141220   \n",
              "337                   0.089763   1.466400           0.097663   \n",
              "338                   0.113370   2.339400           0.050389   \n",
              "339                   0.132270   3.184000           0.082007   \n",
              "\n",
              "     Average Contrast  Smoothness  Third moment  Uniformity  Entropy  \n",
              "0            0.127950    0.016108      0.005232    0.000275  1.17560  \n",
              "1            0.090476    0.008119      0.002708    0.000075  0.69659  \n",
              "2            0.057445    0.003289      0.000921    0.000038  0.44348  \n",
              "3            0.065491    0.004271      0.001154    0.000066  0.58785  \n",
              "4            0.045339    0.002051      0.000560    0.000023  0.34214  \n",
              "..                ...         ...           ...         ...      ...  \n",
              "335          0.208610    0.041703      0.013344    0.000820  2.02810  \n",
              "336          0.218300    0.045488      0.012002    0.001515  2.40590  \n",
              "337          0.207030    0.041101      0.016123    0.000453  1.69350  \n",
              "338          0.135850    0.018121      0.006190    0.000265  1.15260  \n",
              "339          0.187820    0.034074      0.013487    0.000329  1.56230  \n",
              "\n",
              "[340 rows x 16 columns]"
            ],
            "text/html": [
              "\n",
              "  <div id=\"df-e586aba6-ced6-4ab2-88d0-fe05d7a8fdbf\">\n",
              "    <div class=\"colab-df-container\">\n",
              "      <div>\n",
              "<style scoped>\n",
              "    .dataframe tbody tr th:only-of-type {\n",
              "        vertical-align: middle;\n",
              "    }\n",
              "\n",
              "    .dataframe tbody tr th {\n",
              "        vertical-align: top;\n",
              "    }\n",
              "\n",
              "    .dataframe thead th {\n",
              "        text-align: right;\n",
              "    }\n",
              "</style>\n",
              "<table border=\"1\" class=\"dataframe\">\n",
              "  <thead>\n",
              "    <tr style=\"text-align: right;\">\n",
              "      <th></th>\n",
              "      <th>Class(species)</th>\n",
              "      <th>specimen number</th>\n",
              "      <th>Eccentricity</th>\n",
              "      <th>Aspect Ratio</th>\n",
              "      <th>Elongation</th>\n",
              "      <th>Solidity</th>\n",
              "      <th>Stochastic Convexity</th>\n",
              "      <th>Isoperimetric Factor</th>\n",
              "      <th>Maximal Indentation Depth</th>\n",
              "      <th>Lobedness</th>\n",
              "      <th>Average Intensity</th>\n",
              "      <th>Average Contrast</th>\n",
              "      <th>Smoothness</th>\n",
              "      <th>Third moment</th>\n",
              "      <th>Uniformity</th>\n",
              "      <th>Entropy</th>\n",
              "    </tr>\n",
              "  </thead>\n",
              "  <tbody>\n",
              "    <tr>\n",
              "      <th>0</th>\n",
              "      <td>1</td>\n",
              "      <td>1</td>\n",
              "      <td>0.72694</td>\n",
              "      <td>1.4742</td>\n",
              "      <td>0.32396</td>\n",
              "      <td>0.98535</td>\n",
              "      <td>1.00000</td>\n",
              "      <td>0.835920</td>\n",
              "      <td>0.004657</td>\n",
              "      <td>0.003947</td>\n",
              "      <td>0.047790</td>\n",
              "      <td>0.127950</td>\n",
              "      <td>0.016108</td>\n",
              "      <td>0.005232</td>\n",
              "      <td>0.000275</td>\n",
              "      <td>1.17560</td>\n",
              "    </tr>\n",
              "    <tr>\n",
              "      <th>1</th>\n",
              "      <td>1</td>\n",
              "      <td>2</td>\n",
              "      <td>0.74173</td>\n",
              "      <td>1.5257</td>\n",
              "      <td>0.36116</td>\n",
              "      <td>0.98152</td>\n",
              "      <td>0.99825</td>\n",
              "      <td>0.798670</td>\n",
              "      <td>0.005242</td>\n",
              "      <td>0.005002</td>\n",
              "      <td>0.024160</td>\n",
              "      <td>0.090476</td>\n",
              "      <td>0.008119</td>\n",
              "      <td>0.002708</td>\n",
              "      <td>0.000075</td>\n",
              "      <td>0.69659</td>\n",
              "    </tr>\n",
              "    <tr>\n",
              "      <th>2</th>\n",
              "      <td>1</td>\n",
              "      <td>3</td>\n",
              "      <td>0.76722</td>\n",
              "      <td>1.5725</td>\n",
              "      <td>0.38998</td>\n",
              "      <td>0.97755</td>\n",
              "      <td>1.00000</td>\n",
              "      <td>0.808120</td>\n",
              "      <td>0.007457</td>\n",
              "      <td>0.010121</td>\n",
              "      <td>0.011897</td>\n",
              "      <td>0.057445</td>\n",
              "      <td>0.003289</td>\n",
              "      <td>0.000921</td>\n",
              "      <td>0.000038</td>\n",
              "      <td>0.44348</td>\n",
              "    </tr>\n",
              "    <tr>\n",
              "      <th>3</th>\n",
              "      <td>1</td>\n",
              "      <td>4</td>\n",
              "      <td>0.73797</td>\n",
              "      <td>1.4597</td>\n",
              "      <td>0.35376</td>\n",
              "      <td>0.97566</td>\n",
              "      <td>1.00000</td>\n",
              "      <td>0.816970</td>\n",
              "      <td>0.006877</td>\n",
              "      <td>0.008607</td>\n",
              "      <td>0.015950</td>\n",
              "      <td>0.065491</td>\n",
              "      <td>0.004271</td>\n",
              "      <td>0.001154</td>\n",
              "      <td>0.000066</td>\n",
              "      <td>0.58785</td>\n",
              "    </tr>\n",
              "    <tr>\n",
              "      <th>4</th>\n",
              "      <td>1</td>\n",
              "      <td>5</td>\n",
              "      <td>0.82301</td>\n",
              "      <td>1.7707</td>\n",
              "      <td>0.44462</td>\n",
              "      <td>0.97698</td>\n",
              "      <td>1.00000</td>\n",
              "      <td>0.754930</td>\n",
              "      <td>0.007428</td>\n",
              "      <td>0.010042</td>\n",
              "      <td>0.007938</td>\n",
              "      <td>0.045339</td>\n",
              "      <td>0.002051</td>\n",
              "      <td>0.000560</td>\n",
              "      <td>0.000023</td>\n",
              "      <td>0.34214</td>\n",
              "    </tr>\n",
              "    <tr>\n",
              "      <th>...</th>\n",
              "      <td>...</td>\n",
              "      <td>...</td>\n",
              "      <td>...</td>\n",
              "      <td>...</td>\n",
              "      <td>...</td>\n",
              "      <td>...</td>\n",
              "      <td>...</td>\n",
              "      <td>...</td>\n",
              "      <td>...</td>\n",
              "      <td>...</td>\n",
              "      <td>...</td>\n",
              "      <td>...</td>\n",
              "      <td>...</td>\n",
              "      <td>...</td>\n",
              "      <td>...</td>\n",
              "      <td>...</td>\n",
              "    </tr>\n",
              "    <tr>\n",
              "      <th>335</th>\n",
              "      <td>36</td>\n",
              "      <td>6</td>\n",
              "      <td>0.37522</td>\n",
              "      <td>1.1417</td>\n",
              "      <td>0.81725</td>\n",
              "      <td>0.68511</td>\n",
              "      <td>0.58772</td>\n",
              "      <td>0.125230</td>\n",
              "      <td>0.091860</td>\n",
              "      <td>1.535800</td>\n",
              "      <td>0.114880</td>\n",
              "      <td>0.208610</td>\n",
              "      <td>0.041703</td>\n",
              "      <td>0.013344</td>\n",
              "      <td>0.000820</td>\n",
              "      <td>2.02810</td>\n",
              "    </tr>\n",
              "    <tr>\n",
              "      <th>336</th>\n",
              "      <td>36</td>\n",
              "      <td>7</td>\n",
              "      <td>0.28064</td>\n",
              "      <td>1.0849</td>\n",
              "      <td>0.75319</td>\n",
              "      <td>0.72152</td>\n",
              "      <td>0.71404</td>\n",
              "      <td>0.136860</td>\n",
              "      <td>0.078996</td>\n",
              "      <td>1.135800</td>\n",
              "      <td>0.141220</td>\n",
              "      <td>0.218300</td>\n",
              "      <td>0.045488</td>\n",
              "      <td>0.012002</td>\n",
              "      <td>0.001515</td>\n",
              "      <td>2.40590</td>\n",
              "    </tr>\n",
              "    <tr>\n",
              "      <th>337</th>\n",
              "      <td>36</td>\n",
              "      <td>8</td>\n",
              "      <td>0.35344</td>\n",
              "      <td>1.0329</td>\n",
              "      <td>0.78147</td>\n",
              "      <td>0.70737</td>\n",
              "      <td>0.61579</td>\n",
              "      <td>0.135030</td>\n",
              "      <td>0.089763</td>\n",
              "      <td>1.466400</td>\n",
              "      <td>0.097663</td>\n",
              "      <td>0.207030</td>\n",
              "      <td>0.041101</td>\n",
              "      <td>0.016123</td>\n",
              "      <td>0.000453</td>\n",
              "      <td>1.69350</td>\n",
              "    </tr>\n",
              "    <tr>\n",
              "      <th>338</th>\n",
              "      <td>36</td>\n",
              "      <td>9</td>\n",
              "      <td>0.59988</td>\n",
              "      <td>1.1427</td>\n",
              "      <td>0.71532</td>\n",
              "      <td>0.66101</td>\n",
              "      <td>0.47544</td>\n",
              "      <td>0.157470</td>\n",
              "      <td>0.113370</td>\n",
              "      <td>2.339400</td>\n",
              "      <td>0.050389</td>\n",
              "      <td>0.135850</td>\n",
              "      <td>0.018121</td>\n",
              "      <td>0.006190</td>\n",
              "      <td>0.000265</td>\n",
              "      <td>1.15260</td>\n",
              "    </tr>\n",
              "    <tr>\n",
              "      <th>339</th>\n",
              "      <td>36</td>\n",
              "      <td>10</td>\n",
              "      <td>0.47195</td>\n",
              "      <td>1.0901</td>\n",
              "      <td>0.85409</td>\n",
              "      <td>0.53598</td>\n",
              "      <td>0.39649</td>\n",
              "      <td>0.078376</td>\n",
              "      <td>0.132270</td>\n",
              "      <td>3.184000</td>\n",
              "      <td>0.082007</td>\n",
              "      <td>0.187820</td>\n",
              "      <td>0.034074</td>\n",
              "      <td>0.013487</td>\n",
              "      <td>0.000329</td>\n",
              "      <td>1.56230</td>\n",
              "    </tr>\n",
              "  </tbody>\n",
              "</table>\n",
              "<p>340 rows × 16 columns</p>\n",
              "</div>\n",
              "      <button class=\"colab-df-convert\" onclick=\"convertToInteractive('df-e586aba6-ced6-4ab2-88d0-fe05d7a8fdbf')\"\n",
              "              title=\"Convert this dataframe to an interactive table.\"\n",
              "              style=\"display:none;\">\n",
              "        \n",
              "  <svg xmlns=\"http://www.w3.org/2000/svg\" height=\"24px\"viewBox=\"0 0 24 24\"\n",
              "       width=\"24px\">\n",
              "    <path d=\"M0 0h24v24H0V0z\" fill=\"none\"/>\n",
              "    <path d=\"M18.56 5.44l.94 2.06.94-2.06 2.06-.94-2.06-.94-.94-2.06-.94 2.06-2.06.94zm-11 1L8.5 8.5l.94-2.06 2.06-.94-2.06-.94L8.5 2.5l-.94 2.06-2.06.94zm10 10l.94 2.06.94-2.06 2.06-.94-2.06-.94-.94-2.06-.94 2.06-2.06.94z\"/><path d=\"M17.41 7.96l-1.37-1.37c-.4-.4-.92-.59-1.43-.59-.52 0-1.04.2-1.43.59L10.3 9.45l-7.72 7.72c-.78.78-.78 2.05 0 2.83L4 21.41c.39.39.9.59 1.41.59.51 0 1.02-.2 1.41-.59l7.78-7.78 2.81-2.81c.8-.78.8-2.07 0-2.86zM5.41 20L4 18.59l7.72-7.72 1.47 1.35L5.41 20z\"/>\n",
              "  </svg>\n",
              "      </button>\n",
              "      \n",
              "  <style>\n",
              "    .colab-df-container {\n",
              "      display:flex;\n",
              "      flex-wrap:wrap;\n",
              "      gap: 12px;\n",
              "    }\n",
              "\n",
              "    .colab-df-convert {\n",
              "      background-color: #E8F0FE;\n",
              "      border: none;\n",
              "      border-radius: 50%;\n",
              "      cursor: pointer;\n",
              "      display: none;\n",
              "      fill: #1967D2;\n",
              "      height: 32px;\n",
              "      padding: 0 0 0 0;\n",
              "      width: 32px;\n",
              "    }\n",
              "\n",
              "    .colab-df-convert:hover {\n",
              "      background-color: #E2EBFA;\n",
              "      box-shadow: 0px 1px 2px rgba(60, 64, 67, 0.3), 0px 1px 3px 1px rgba(60, 64, 67, 0.15);\n",
              "      fill: #174EA6;\n",
              "    }\n",
              "\n",
              "    [theme=dark] .colab-df-convert {\n",
              "      background-color: #3B4455;\n",
              "      fill: #D2E3FC;\n",
              "    }\n",
              "\n",
              "    [theme=dark] .colab-df-convert:hover {\n",
              "      background-color: #434B5C;\n",
              "      box-shadow: 0px 1px 3px 1px rgba(0, 0, 0, 0.15);\n",
              "      filter: drop-shadow(0px 1px 2px rgba(0, 0, 0, 0.3));\n",
              "      fill: #FFFFFF;\n",
              "    }\n",
              "  </style>\n",
              "\n",
              "      <script>\n",
              "        const buttonEl =\n",
              "          document.querySelector('#df-e586aba6-ced6-4ab2-88d0-fe05d7a8fdbf button.colab-df-convert');\n",
              "        buttonEl.style.display =\n",
              "          google.colab.kernel.accessAllowed ? 'block' : 'none';\n",
              "\n",
              "        async function convertToInteractive(key) {\n",
              "          const element = document.querySelector('#df-e586aba6-ced6-4ab2-88d0-fe05d7a8fdbf');\n",
              "          const dataTable =\n",
              "            await google.colab.kernel.invokeFunction('convertToInteractive',\n",
              "                                                     [key], {});\n",
              "          if (!dataTable) return;\n",
              "\n",
              "          const docLinkHtml = 'Like what you see? Visit the ' +\n",
              "            '<a target=\"_blank\" href=https://colab.research.google.com/notebooks/data_table.ipynb>data table notebook</a>'\n",
              "            + ' to learn more about interactive tables.';\n",
              "          element.innerHTML = '';\n",
              "          dataTable['output_type'] = 'display_data';\n",
              "          await google.colab.output.renderOutput(dataTable, element);\n",
              "          const docLink = document.createElement('div');\n",
              "          docLink.innerHTML = docLinkHtml;\n",
              "          element.appendChild(docLink);\n",
              "        }\n",
              "      </script>\n",
              "    </div>\n",
              "  </div>\n",
              "  "
            ]
          },
          "metadata": {},
          "execution_count": 572
        }
      ],
      "source": [
        "leaf = pd.read_csv('/content/leaf_dataset.csv')\n",
        "leaf.head(341)"
      ]
    },
    {
      "cell_type": "code",
      "execution_count": null,
      "metadata": {
        "colab": {
          "base_uri": "https://localhost:8080/"
        },
        "id": "utvR4slHUUoH",
        "outputId": "1dd496fc-a15b-4830-852b-a36997bb616d"
      },
      "outputs": [
        {
          "output_type": "execute_result",
          "data": {
            "text/plain": [
              "(340, 16)"
            ]
          },
          "metadata": {},
          "execution_count": 573
        }
      ],
      "source": [
        "leaf.shape"
      ]
    },
    {
      "cell_type": "code",
      "execution_count": null,
      "metadata": {
        "colab": {
          "base_uri": "https://localhost:8080/"
        },
        "id": "RFHvAKsPaJhH",
        "outputId": "25a98825-1f95-4d0e-edb4-0224c0ac33e7"
      },
      "outputs": [
        {
          "output_type": "execute_result",
          "data": {
            "text/plain": [
              "Class(species)               0\n",
              "specimen number              0\n",
              "Eccentricity                 0\n",
              "Aspect Ratio                 0\n",
              "Elongation                   2\n",
              "Solidity                     0\n",
              "Stochastic Convexity         0\n",
              "Isoperimetric Factor         0\n",
              "Maximal Indentation Depth    1\n",
              "Lobedness                    1\n",
              "Average Intensity            0\n",
              "Average Contrast             2\n",
              "Smoothness                   0\n",
              "Third moment                 0\n",
              "Uniformity                   0\n",
              "Entropy                      0\n",
              "dtype: int64"
            ]
          },
          "metadata": {},
          "execution_count": 574
        }
      ],
      "source": [
        "leaf.isnull().sum()"
      ]
    },
    {
      "cell_type": "markdown",
      "metadata": {
        "id": "_W4nE4hGip78"
      },
      "source": [
        "### Imputing missing Values"
      ]
    },
    {
      "cell_type": "code",
      "execution_count": null,
      "metadata": {
        "id": "ugpsjd-SyEhC"
      },
      "outputs": [],
      "source": [
        "from sklearn.impute import SimpleImputer\n",
        "\n",
        "impute = SimpleImputer(missing_values=np.nan, strategy='mean')\n",
        "\n",
        "impute.fit(leaf[['Elongation']])\n",
        "leaf['Elongation'] = impute.transform(leaf[['Elongation']])\n",
        "\n",
        "impute.fit(leaf[['Maximal Indentation Depth']])\n",
        "leaf['Maximal Indentation Depth'] = impute.transform(leaf[['Maximal Indentation Depth']])\n",
        "\n",
        "impute.fit(leaf[['Lobedness']])\n",
        "leaf['Lobedness'] = impute.transform(leaf[['Lobedness']])\n",
        "\n",
        "impute.fit(leaf[['Average Contrast']])\n",
        "leaf['Average Contrast'] = impute.transform(leaf[['Average Contrast']])\n",
        "\n"
      ]
    },
    {
      "cell_type": "code",
      "execution_count": null,
      "metadata": {
        "colab": {
          "base_uri": "https://localhost:8080/"
        },
        "id": "hFTWOtoZkG7d",
        "outputId": "6993c577-1d23-480b-a5e4-8d698c393f20"
      },
      "outputs": [
        {
          "output_type": "execute_result",
          "data": {
            "text/plain": [
              "Class(species)               0\n",
              "specimen number              0\n",
              "Eccentricity                 0\n",
              "Aspect Ratio                 0\n",
              "Elongation                   0\n",
              "Solidity                     0\n",
              "Stochastic Convexity         0\n",
              "Isoperimetric Factor         0\n",
              "Maximal Indentation Depth    0\n",
              "Lobedness                    0\n",
              "Average Intensity            0\n",
              "Average Contrast             0\n",
              "Smoothness                   0\n",
              "Third moment                 0\n",
              "Uniformity                   0\n",
              "Entropy                      0\n",
              "dtype: int64"
            ]
          },
          "metadata": {},
          "execution_count": 576
        }
      ],
      "source": [
        "leaf.isnull().sum()"
      ]
    },
    {
      "cell_type": "markdown",
      "metadata": {
        "id": "IHnRFvFPTfr0"
      },
      "source": [
        "## Standardizing Data"
      ]
    },
    {
      "cell_type": "markdown",
      "metadata": {
        "id": "kgHgelb9RUXB"
      },
      "source": [
        "## Feature Scaling"
      ]
    },
    {
      "cell_type": "markdown",
      "metadata": {
        "id": "1lcM-IuqD_XW"
      },
      "source": [
        "## Why do we need to scale our data?\n",
        "* If a feature’s variance is orders of magnitude more than the variance of other features, that particular feature might dominate other features in the dataset and make the estimator unable to learn from other features correctly, i.e. our learner might give more importance to features with high variance, which is not something we want happening in our model.\n",
        "\n",
        "The following are a few different types of Scalers:\n"
      ]
    },
    {
      "cell_type": "markdown",
      "metadata": {
        "id": "Sq14OVytLYu4"
      },
      "source": [
        "**MinMax Scaler:** \n",
        "\n",
        "Scales values to a range between 0 and 1 if no negative values, and -1 to 1 if there are negative values present.\n",
        "\n",
        "$$\\frac{X - X_{min}}{X_{max} - X_{min}}$$\n",
        "\n",
        "where, \n",
        "\n",
        " $$X\\space is\\space a\\space feature\\space value.$$ \n",
        " $$X_{min} \\space and \\space X_{max} \\space are \\space corresponding \\space feature's \\space min \\space and \\space max \\space values. $$\n",
        "\n",
        "\n",
        "**Standard Scaler:**\n",
        "\n",
        "$$\\frac{X - mean}{\\sigma}$$\n",
        "where,\n",
        "$$\\sigma = standard \\space deviation $$ \n",
        "\n",
        "**Robust Scaler:**\n",
        "\n",
        "Uses statistics that are robust to outliers\n",
        "\n",
        "$$\\frac{X - median}{IQR}$$\n",
        "\n",
        "where, \n",
        "\n",
        "$$ IQR = Inter\\space Quartile\\space Range = Q_3 - Q_1 $$\n"
      ]
    },
    {
      "cell_type": "markdown",
      "metadata": {
        "id": "KQob80w1EzLr"
      },
      "source": [
        "Sklearn library provides functions for different scalers by which we can easily scale our data."
      ]
    },
    {
      "cell_type": "code",
      "execution_count": null,
      "metadata": {
        "colab": {
          "base_uri": "https://localhost:8080/"
        },
        "id": "Wr7h2TONqR2Q",
        "outputId": "92993f3d-b9dc-4e7f-8e3e-6d4f85071d44"
      },
      "outputs": [
        {
          "output_type": "stream",
          "name": "stdout",
          "text": [
            "(255, 15)\n",
            "(85, 15)\n"
          ]
        }
      ],
      "source": [
        "from sklearn.model_selection import train_test_split\n",
        "\n",
        "data = leaf.drop('Class(species)', axis= 1)\n",
        "target = leaf['Class(species)']\n",
        "\n",
        "X_train, X_test, y_train, y_test = train_test_split(data, target, random_state = 1)\n",
        "\n",
        "print(X_train.shape)\n",
        "print(X_test.shape)\n",
        "\n"
      ]
    },
    {
      "cell_type": "code",
      "execution_count": null,
      "metadata": {
        "colab": {
          "base_uri": "https://localhost:8080/"
        },
        "id": "cdJsUpEsvaUL",
        "outputId": "457f27c0-96c1-49c0-b6af-fd8a7cd65c8b"
      },
      "outputs": [
        {
          "output_type": "execute_result",
          "data": {
            "text/plain": [
              "MinMaxScaler()"
            ]
          },
          "metadata": {},
          "execution_count": 578
        }
      ],
      "source": [
        "from sklearn.preprocessing import MinMaxScaler\n",
        "\n",
        "scaler = MinMaxScaler(copy=True, feature_range=(0, 1))\n",
        "scaler.fit(X_train)"
      ]
    },
    {
      "cell_type": "code",
      "execution_count": null,
      "metadata": {
        "id": "D4eWaFAZvpZW"
      },
      "outputs": [],
      "source": [
        "# transform data\n",
        "X_train_scaled = scaler.transform(X_train)"
      ]
    },
    {
      "cell_type": "code",
      "execution_count": null,
      "metadata": {
        "colab": {
          "base_uri": "https://localhost:8080/"
        },
        "id": "3WzT_FsIvutE",
        "outputId": "d768e04c-6312-4772-bffc-155142667af4"
      },
      "outputs": [
        {
          "output_type": "stream",
          "name": "stdout",
          "text": [
            "per-feature minimum before scaling:\n",
            " specimen number              1.000000\n",
            "Eccentricity                 0.117080\n",
            "Aspect Ratio                 1.040500\n",
            "Elongation                   0.136260\n",
            "Solidity                     0.485490\n",
            "Stochastic Convexity         0.473680\n",
            "Isoperimetric Factor         0.086183\n",
            "Maximal Indentation Depth    0.002967\n",
            "Lobedness                    0.001602\n",
            "Average Intensity            0.005022\n",
            "Average Contrast             0.033415\n",
            "Smoothness                   0.001115\n",
            "Third moment                 0.000229\n",
            "Uniformity                   0.000007\n",
            "Entropy                      0.169400\n",
            "dtype: float64\n",
            "per-feature maximum before scaling:\n",
            " specimen number              14.000000\n",
            "Eccentricity                  0.998710\n",
            "Aspect Ratio                 19.038000\n",
            "Elongation                    0.948340\n",
            "Solidity                      0.993880\n",
            "Stochastic Convexity          1.000000\n",
            "Isoperimetric Factor          0.858160\n",
            "Maximal Indentation Depth     0.198980\n",
            "Lobedness                     7.206200\n",
            "Average Intensity             0.151880\n",
            "Average Contrast              0.264800\n",
            "Smoothness                    0.065523\n",
            "Third moment                  0.029786\n",
            "Uniformity                    0.002936\n",
            "Entropy                       2.708500\n",
            "dtype: float64\n"
          ]
        }
      ],
      "source": [
        "print(\"per-feature minimum before scaling:\\n {}\".format(X_train.min(axis=0)))\n",
        "print(\"per-feature maximum before scaling:\\n {}\".format(X_train.max(axis=0)))"
      ]
    },
    {
      "cell_type": "markdown",
      "metadata": {
        "id": "E8PyFuw1wRix"
      },
      "source": [
        "We can see that after Min-Max Scaling all the values are in the range [0,1]"
      ]
    },
    {
      "cell_type": "code",
      "execution_count": null,
      "metadata": {
        "colab": {
          "base_uri": "https://localhost:8080/"
        },
        "id": "RvhLmU0ev1tG",
        "outputId": "6a981599-5d68-4978-a722-1e4354668901"
      },
      "outputs": [
        {
          "output_type": "stream",
          "name": "stdout",
          "text": [
            "per-feature minimum after scaling:\n",
            " [0. 0. 0. 0. 0. 0. 0. 0. 0. 0. 0. 0. 0. 0. 0.]\n",
            "per-feature maximum after scaling:\n",
            " [1. 1. 1. 1. 1. 1. 1. 1. 1. 1. 1. 1. 1. 1. 1.]\n"
          ]
        }
      ],
      "source": [
        "print(\"per-feature minimum after scaling:\\n {}\".format(X_train_scaled.min(axis=0)))\n",
        "print(\"per-feature maximum after scaling:\\n {}\".format(X_train_scaled.max(axis=0)))"
      ]
    },
    {
      "cell_type": "code",
      "execution_count": null,
      "metadata": {
        "id": "U7viaXlavQK8"
      },
      "outputs": [],
      "source": [
        "# transform test data\n",
        "X_test_scaled = scaler.transform(X_test)"
      ]
    },
    {
      "cell_type": "markdown",
      "metadata": {
        "id": "YE8olMCzu4t7"
      },
      "source": [
        "## Effect of using MinMax Scaler:"
      ]
    },
    {
      "cell_type": "markdown",
      "metadata": {
        "id": "jmCcY128vBrU"
      },
      "source": [
        "###Accuracy without scaling"
      ]
    },
    {
      "cell_type": "code",
      "execution_count": null,
      "metadata": {
        "colab": {
          "base_uri": "https://localhost:8080/"
        },
        "id": "nEnumTbvqvWd",
        "outputId": "27fb0c92-d2fd-45b7-c0be-dc9ca4ac2866"
      },
      "outputs": [
        {
          "output_type": "stream",
          "name": "stdout",
          "text": [
            "Test set accuracy: 0.09\n"
          ]
        }
      ],
      "source": [
        "from sklearn.neighbors import KNeighborsClassifier\n",
        "X_train, X_test, y_train, y_test = train_test_split(data, target, random_state=0)\n",
        "knn=KNeighborsClassifier()\n",
        "\n",
        "knn.fit(X_train, y_train)\n",
        "\n",
        "print(\"Test set accuracy: {:.2f}\".format(knn.score(X_test, y_test)))"
      ]
    },
    {
      "cell_type": "markdown",
      "metadata": {
        "id": "yCVrQoJ1vZB0"
      },
      "source": [
        "### We can see that accuracy improves if we train on scaled data."
      ]
    },
    {
      "cell_type": "code",
      "execution_count": null,
      "metadata": {
        "colab": {
          "base_uri": "https://localhost:8080/"
        },
        "id": "dZnZ4syVrhre",
        "outputId": "225848d2-e50d-4046-db8b-c2bab2215b54"
      },
      "outputs": [
        {
          "output_type": "stream",
          "name": "stdout",
          "text": [
            "Scaled test set accuracy: 0.40\n"
          ]
        }
      ],
      "source": [
        "# preprocessing using 0-1 scaling\n",
        "scaler = MinMaxScaler()\n",
        "scaler.fit(X_train)\n",
        "\n",
        "X_train_scaled = scaler.transform(X_train)\n",
        "\n",
        "X_test_scaled = scaler.transform(X_test)\n",
        "\n",
        "#train\n",
        "knn.fit(X_train_scaled, y_train)\n",
        "\n",
        "# scoring on the scaled test set\n",
        "print(\"Scaled test set accuracy: {:.2f}\".format(knn.score(X_test_scaled, y_test)))"
      ]
    },
    {
      "cell_type": "markdown",
      "metadata": {
        "id": "My5bgznkTfsV"
      },
      "source": [
        "## Feature Selection"
      ]
    },
    {
      "cell_type": "markdown",
      "metadata": {
        "id": "M4kMkcOpGZcf"
      },
      "source": [
        "### Checking for correlated features\n",
        "\n",
        "We may use the following heatmap to find out the correlation between each of the features in a dataset. If a certain feature is highly correlated with more than one feature, we may choose to drop that feature (in this case it is *flavanoids*) because it will affect our model in a similar way as the other two features (and thus will prove to redundant). Correlation between two features may be found using the color gradient shown on the right."
      ]
    },
    {
      "cell_type": "code",
      "execution_count": null,
      "metadata": {
        "colab": {
          "base_uri": "https://localhost:8080/"
        },
        "id": "M7b_JOhNWgXy",
        "outputId": "bad8519d-ba7f-404e-93b9-ff225a17c4de"
      },
      "outputs": [
        {
          "output_type": "stream",
          "name": "stdout",
          "text": [
            "<class 'pandas.core.frame.DataFrame'>\n",
            "RangeIndex: 340 entries, 0 to 339\n",
            "Data columns (total 16 columns):\n",
            " #   Column                     Non-Null Count  Dtype  \n",
            "---  ------                     --------------  -----  \n",
            " 0   Class(species)             340 non-null    int64  \n",
            " 1   specimen number            340 non-null    int64  \n",
            " 2   Eccentricity               340 non-null    float64\n",
            " 3   Aspect Ratio               340 non-null    float64\n",
            " 4   Elongation                 340 non-null    float64\n",
            " 5   Solidity                   340 non-null    float64\n",
            " 6   Stochastic Convexity       340 non-null    float64\n",
            " 7   Isoperimetric Factor       340 non-null    float64\n",
            " 8   Maximal Indentation Depth  340 non-null    float64\n",
            " 9   Lobedness                  340 non-null    float64\n",
            " 10  Average Intensity          340 non-null    float64\n",
            " 11  Average Contrast           340 non-null    float64\n",
            " 12  Smoothness                 340 non-null    float64\n",
            " 13  Third moment               340 non-null    float64\n",
            " 14  Uniformity                 340 non-null    float64\n",
            " 15  Entropy                    340 non-null    float64\n",
            "dtypes: float64(14), int64(2)\n",
            "memory usage: 42.6 KB\n"
          ]
        }
      ],
      "source": [
        "leaf.info()"
      ]
    },
    {
      "cell_type": "code",
      "execution_count": null,
      "metadata": {
        "colab": {
          "base_uri": "https://localhost:8080/",
          "height": 502
        },
        "id": "0ZEdJ_-bCV6j",
        "outputId": "24ab713b-fcf9-42b4-86ce-8ce445a4267c"
      },
      "outputs": [
        {
          "output_type": "execute_result",
          "data": {
            "text/plain": [
              "     Class(species)  specimen number  Eccentricity  Aspect Ratio  Elongation  \\\n",
              "0                 1                1       0.72694        1.4742     0.32396   \n",
              "1                 1                2       0.74173        1.5257     0.36116   \n",
              "2                 1                3       0.76722        1.5725     0.38998   \n",
              "3                 1                4       0.73797        1.4597     0.35376   \n",
              "4                 1                5       0.82301        1.7707     0.44462   \n",
              "..              ...              ...           ...           ...         ...   \n",
              "335              36                6       0.37522        1.1417     0.81725   \n",
              "336              36                7       0.28064        1.0849     0.75319   \n",
              "337              36                8       0.35344        1.0329     0.78147   \n",
              "338              36                9       0.59988        1.1427     0.71532   \n",
              "339              36               10       0.47195        1.0901     0.85409   \n",
              "\n",
              "     Solidity  Stochastic Convexity  Isoperimetric Factor  \\\n",
              "0     0.98535               1.00000              0.835920   \n",
              "1     0.98152               0.99825              0.798670   \n",
              "2     0.97755               1.00000              0.808120   \n",
              "3     0.97566               1.00000              0.816970   \n",
              "4     0.97698               1.00000              0.754930   \n",
              "..        ...                   ...                   ...   \n",
              "335   0.68511               0.58772              0.125230   \n",
              "336   0.72152               0.71404              0.136860   \n",
              "337   0.70737               0.61579              0.135030   \n",
              "338   0.66101               0.47544              0.157470   \n",
              "339   0.53598               0.39649              0.078376   \n",
              "\n",
              "     Maximal Indentation Depth  Lobedness  Average Intensity  \\\n",
              "0                     0.004657   0.003947           0.047790   \n",
              "1                     0.005242   0.005002           0.024160   \n",
              "2                     0.007457   0.010121           0.011897   \n",
              "3                     0.006877   0.008607           0.015950   \n",
              "4                     0.007428   0.010042           0.007938   \n",
              "..                         ...        ...                ...   \n",
              "335                   0.091860   1.535800           0.114880   \n",
              "336                   0.078996   1.135800           0.141220   \n",
              "337                   0.089763   1.466400           0.097663   \n",
              "338                   0.113370   2.339400           0.050389   \n",
              "339                   0.132270   3.184000           0.082007   \n",
              "\n",
              "     Average Contrast  Smoothness  Third moment  Uniformity  Entropy  \n",
              "0            0.127950    0.016108      0.005232    0.000275  1.17560  \n",
              "1            0.090476    0.008119      0.002708    0.000075  0.69659  \n",
              "2            0.057445    0.003289      0.000921    0.000038  0.44348  \n",
              "3            0.065491    0.004271      0.001154    0.000066  0.58785  \n",
              "4            0.045339    0.002051      0.000560    0.000023  0.34214  \n",
              "..                ...         ...           ...         ...      ...  \n",
              "335          0.208610    0.041703      0.013344    0.000820  2.02810  \n",
              "336          0.218300    0.045488      0.012002    0.001515  2.40590  \n",
              "337          0.207030    0.041101      0.016123    0.000453  1.69350  \n",
              "338          0.135850    0.018121      0.006190    0.000265  1.15260  \n",
              "339          0.187820    0.034074      0.013487    0.000329  1.56230  \n",
              "\n",
              "[340 rows x 16 columns]"
            ],
            "text/html": [
              "\n",
              "  <div id=\"df-f4633096-79a1-48ba-a88c-9094065f6905\">\n",
              "    <div class=\"colab-df-container\">\n",
              "      <div>\n",
              "<style scoped>\n",
              "    .dataframe tbody tr th:only-of-type {\n",
              "        vertical-align: middle;\n",
              "    }\n",
              "\n",
              "    .dataframe tbody tr th {\n",
              "        vertical-align: top;\n",
              "    }\n",
              "\n",
              "    .dataframe thead th {\n",
              "        text-align: right;\n",
              "    }\n",
              "</style>\n",
              "<table border=\"1\" class=\"dataframe\">\n",
              "  <thead>\n",
              "    <tr style=\"text-align: right;\">\n",
              "      <th></th>\n",
              "      <th>Class(species)</th>\n",
              "      <th>specimen number</th>\n",
              "      <th>Eccentricity</th>\n",
              "      <th>Aspect Ratio</th>\n",
              "      <th>Elongation</th>\n",
              "      <th>Solidity</th>\n",
              "      <th>Stochastic Convexity</th>\n",
              "      <th>Isoperimetric Factor</th>\n",
              "      <th>Maximal Indentation Depth</th>\n",
              "      <th>Lobedness</th>\n",
              "      <th>Average Intensity</th>\n",
              "      <th>Average Contrast</th>\n",
              "      <th>Smoothness</th>\n",
              "      <th>Third moment</th>\n",
              "      <th>Uniformity</th>\n",
              "      <th>Entropy</th>\n",
              "    </tr>\n",
              "  </thead>\n",
              "  <tbody>\n",
              "    <tr>\n",
              "      <th>0</th>\n",
              "      <td>1</td>\n",
              "      <td>1</td>\n",
              "      <td>0.72694</td>\n",
              "      <td>1.4742</td>\n",
              "      <td>0.32396</td>\n",
              "      <td>0.98535</td>\n",
              "      <td>1.00000</td>\n",
              "      <td>0.835920</td>\n",
              "      <td>0.004657</td>\n",
              "      <td>0.003947</td>\n",
              "      <td>0.047790</td>\n",
              "      <td>0.127950</td>\n",
              "      <td>0.016108</td>\n",
              "      <td>0.005232</td>\n",
              "      <td>0.000275</td>\n",
              "      <td>1.17560</td>\n",
              "    </tr>\n",
              "    <tr>\n",
              "      <th>1</th>\n",
              "      <td>1</td>\n",
              "      <td>2</td>\n",
              "      <td>0.74173</td>\n",
              "      <td>1.5257</td>\n",
              "      <td>0.36116</td>\n",
              "      <td>0.98152</td>\n",
              "      <td>0.99825</td>\n",
              "      <td>0.798670</td>\n",
              "      <td>0.005242</td>\n",
              "      <td>0.005002</td>\n",
              "      <td>0.024160</td>\n",
              "      <td>0.090476</td>\n",
              "      <td>0.008119</td>\n",
              "      <td>0.002708</td>\n",
              "      <td>0.000075</td>\n",
              "      <td>0.69659</td>\n",
              "    </tr>\n",
              "    <tr>\n",
              "      <th>2</th>\n",
              "      <td>1</td>\n",
              "      <td>3</td>\n",
              "      <td>0.76722</td>\n",
              "      <td>1.5725</td>\n",
              "      <td>0.38998</td>\n",
              "      <td>0.97755</td>\n",
              "      <td>1.00000</td>\n",
              "      <td>0.808120</td>\n",
              "      <td>0.007457</td>\n",
              "      <td>0.010121</td>\n",
              "      <td>0.011897</td>\n",
              "      <td>0.057445</td>\n",
              "      <td>0.003289</td>\n",
              "      <td>0.000921</td>\n",
              "      <td>0.000038</td>\n",
              "      <td>0.44348</td>\n",
              "    </tr>\n",
              "    <tr>\n",
              "      <th>3</th>\n",
              "      <td>1</td>\n",
              "      <td>4</td>\n",
              "      <td>0.73797</td>\n",
              "      <td>1.4597</td>\n",
              "      <td>0.35376</td>\n",
              "      <td>0.97566</td>\n",
              "      <td>1.00000</td>\n",
              "      <td>0.816970</td>\n",
              "      <td>0.006877</td>\n",
              "      <td>0.008607</td>\n",
              "      <td>0.015950</td>\n",
              "      <td>0.065491</td>\n",
              "      <td>0.004271</td>\n",
              "      <td>0.001154</td>\n",
              "      <td>0.000066</td>\n",
              "      <td>0.58785</td>\n",
              "    </tr>\n",
              "    <tr>\n",
              "      <th>4</th>\n",
              "      <td>1</td>\n",
              "      <td>5</td>\n",
              "      <td>0.82301</td>\n",
              "      <td>1.7707</td>\n",
              "      <td>0.44462</td>\n",
              "      <td>0.97698</td>\n",
              "      <td>1.00000</td>\n",
              "      <td>0.754930</td>\n",
              "      <td>0.007428</td>\n",
              "      <td>0.010042</td>\n",
              "      <td>0.007938</td>\n",
              "      <td>0.045339</td>\n",
              "      <td>0.002051</td>\n",
              "      <td>0.000560</td>\n",
              "      <td>0.000023</td>\n",
              "      <td>0.34214</td>\n",
              "    </tr>\n",
              "    <tr>\n",
              "      <th>...</th>\n",
              "      <td>...</td>\n",
              "      <td>...</td>\n",
              "      <td>...</td>\n",
              "      <td>...</td>\n",
              "      <td>...</td>\n",
              "      <td>...</td>\n",
              "      <td>...</td>\n",
              "      <td>...</td>\n",
              "      <td>...</td>\n",
              "      <td>...</td>\n",
              "      <td>...</td>\n",
              "      <td>...</td>\n",
              "      <td>...</td>\n",
              "      <td>...</td>\n",
              "      <td>...</td>\n",
              "      <td>...</td>\n",
              "    </tr>\n",
              "    <tr>\n",
              "      <th>335</th>\n",
              "      <td>36</td>\n",
              "      <td>6</td>\n",
              "      <td>0.37522</td>\n",
              "      <td>1.1417</td>\n",
              "      <td>0.81725</td>\n",
              "      <td>0.68511</td>\n",
              "      <td>0.58772</td>\n",
              "      <td>0.125230</td>\n",
              "      <td>0.091860</td>\n",
              "      <td>1.535800</td>\n",
              "      <td>0.114880</td>\n",
              "      <td>0.208610</td>\n",
              "      <td>0.041703</td>\n",
              "      <td>0.013344</td>\n",
              "      <td>0.000820</td>\n",
              "      <td>2.02810</td>\n",
              "    </tr>\n",
              "    <tr>\n",
              "      <th>336</th>\n",
              "      <td>36</td>\n",
              "      <td>7</td>\n",
              "      <td>0.28064</td>\n",
              "      <td>1.0849</td>\n",
              "      <td>0.75319</td>\n",
              "      <td>0.72152</td>\n",
              "      <td>0.71404</td>\n",
              "      <td>0.136860</td>\n",
              "      <td>0.078996</td>\n",
              "      <td>1.135800</td>\n",
              "      <td>0.141220</td>\n",
              "      <td>0.218300</td>\n",
              "      <td>0.045488</td>\n",
              "      <td>0.012002</td>\n",
              "      <td>0.001515</td>\n",
              "      <td>2.40590</td>\n",
              "    </tr>\n",
              "    <tr>\n",
              "      <th>337</th>\n",
              "      <td>36</td>\n",
              "      <td>8</td>\n",
              "      <td>0.35344</td>\n",
              "      <td>1.0329</td>\n",
              "      <td>0.78147</td>\n",
              "      <td>0.70737</td>\n",
              "      <td>0.61579</td>\n",
              "      <td>0.135030</td>\n",
              "      <td>0.089763</td>\n",
              "      <td>1.466400</td>\n",
              "      <td>0.097663</td>\n",
              "      <td>0.207030</td>\n",
              "      <td>0.041101</td>\n",
              "      <td>0.016123</td>\n",
              "      <td>0.000453</td>\n",
              "      <td>1.69350</td>\n",
              "    </tr>\n",
              "    <tr>\n",
              "      <th>338</th>\n",
              "      <td>36</td>\n",
              "      <td>9</td>\n",
              "      <td>0.59988</td>\n",
              "      <td>1.1427</td>\n",
              "      <td>0.71532</td>\n",
              "      <td>0.66101</td>\n",
              "      <td>0.47544</td>\n",
              "      <td>0.157470</td>\n",
              "      <td>0.113370</td>\n",
              "      <td>2.339400</td>\n",
              "      <td>0.050389</td>\n",
              "      <td>0.135850</td>\n",
              "      <td>0.018121</td>\n",
              "      <td>0.006190</td>\n",
              "      <td>0.000265</td>\n",
              "      <td>1.15260</td>\n",
              "    </tr>\n",
              "    <tr>\n",
              "      <th>339</th>\n",
              "      <td>36</td>\n",
              "      <td>10</td>\n",
              "      <td>0.47195</td>\n",
              "      <td>1.0901</td>\n",
              "      <td>0.85409</td>\n",
              "      <td>0.53598</td>\n",
              "      <td>0.39649</td>\n",
              "      <td>0.078376</td>\n",
              "      <td>0.132270</td>\n",
              "      <td>3.184000</td>\n",
              "      <td>0.082007</td>\n",
              "      <td>0.187820</td>\n",
              "      <td>0.034074</td>\n",
              "      <td>0.013487</td>\n",
              "      <td>0.000329</td>\n",
              "      <td>1.56230</td>\n",
              "    </tr>\n",
              "  </tbody>\n",
              "</table>\n",
              "<p>340 rows × 16 columns</p>\n",
              "</div>\n",
              "      <button class=\"colab-df-convert\" onclick=\"convertToInteractive('df-f4633096-79a1-48ba-a88c-9094065f6905')\"\n",
              "              title=\"Convert this dataframe to an interactive table.\"\n",
              "              style=\"display:none;\">\n",
              "        \n",
              "  <svg xmlns=\"http://www.w3.org/2000/svg\" height=\"24px\"viewBox=\"0 0 24 24\"\n",
              "       width=\"24px\">\n",
              "    <path d=\"M0 0h24v24H0V0z\" fill=\"none\"/>\n",
              "    <path d=\"M18.56 5.44l.94 2.06.94-2.06 2.06-.94-2.06-.94-.94-2.06-.94 2.06-2.06.94zm-11 1L8.5 8.5l.94-2.06 2.06-.94-2.06-.94L8.5 2.5l-.94 2.06-2.06.94zm10 10l.94 2.06.94-2.06 2.06-.94-2.06-.94-.94-2.06-.94 2.06-2.06.94z\"/><path d=\"M17.41 7.96l-1.37-1.37c-.4-.4-.92-.59-1.43-.59-.52 0-1.04.2-1.43.59L10.3 9.45l-7.72 7.72c-.78.78-.78 2.05 0 2.83L4 21.41c.39.39.9.59 1.41.59.51 0 1.02-.2 1.41-.59l7.78-7.78 2.81-2.81c.8-.78.8-2.07 0-2.86zM5.41 20L4 18.59l7.72-7.72 1.47 1.35L5.41 20z\"/>\n",
              "  </svg>\n",
              "      </button>\n",
              "      \n",
              "  <style>\n",
              "    .colab-df-container {\n",
              "      display:flex;\n",
              "      flex-wrap:wrap;\n",
              "      gap: 12px;\n",
              "    }\n",
              "\n",
              "    .colab-df-convert {\n",
              "      background-color: #E8F0FE;\n",
              "      border: none;\n",
              "      border-radius: 50%;\n",
              "      cursor: pointer;\n",
              "      display: none;\n",
              "      fill: #1967D2;\n",
              "      height: 32px;\n",
              "      padding: 0 0 0 0;\n",
              "      width: 32px;\n",
              "    }\n",
              "\n",
              "    .colab-df-convert:hover {\n",
              "      background-color: #E2EBFA;\n",
              "      box-shadow: 0px 1px 2px rgba(60, 64, 67, 0.3), 0px 1px 3px 1px rgba(60, 64, 67, 0.15);\n",
              "      fill: #174EA6;\n",
              "    }\n",
              "\n",
              "    [theme=dark] .colab-df-convert {\n",
              "      background-color: #3B4455;\n",
              "      fill: #D2E3FC;\n",
              "    }\n",
              "\n",
              "    [theme=dark] .colab-df-convert:hover {\n",
              "      background-color: #434B5C;\n",
              "      box-shadow: 0px 1px 3px 1px rgba(0, 0, 0, 0.15);\n",
              "      filter: drop-shadow(0px 1px 2px rgba(0, 0, 0, 0.3));\n",
              "      fill: #FFFFFF;\n",
              "    }\n",
              "  </style>\n",
              "\n",
              "      <script>\n",
              "        const buttonEl =\n",
              "          document.querySelector('#df-f4633096-79a1-48ba-a88c-9094065f6905 button.colab-df-convert');\n",
              "        buttonEl.style.display =\n",
              "          google.colab.kernel.accessAllowed ? 'block' : 'none';\n",
              "\n",
              "        async function convertToInteractive(key) {\n",
              "          const element = document.querySelector('#df-f4633096-79a1-48ba-a88c-9094065f6905');\n",
              "          const dataTable =\n",
              "            await google.colab.kernel.invokeFunction('convertToInteractive',\n",
              "                                                     [key], {});\n",
              "          if (!dataTable) return;\n",
              "\n",
              "          const docLinkHtml = 'Like what you see? Visit the ' +\n",
              "            '<a target=\"_blank\" href=https://colab.research.google.com/notebooks/data_table.ipynb>data table notebook</a>'\n",
              "            + ' to learn more about interactive tables.';\n",
              "          element.innerHTML = '';\n",
              "          dataTable['output_type'] = 'display_data';\n",
              "          await google.colab.output.renderOutput(dataTable, element);\n",
              "          const docLink = document.createElement('div');\n",
              "          docLink.innerHTML = docLinkHtml;\n",
              "          element.appendChild(docLink);\n",
              "        }\n",
              "      </script>\n",
              "    </div>\n",
              "  </div>\n",
              "  "
            ]
          },
          "metadata": {},
          "execution_count": 586
        }
      ],
      "source": [
        "leaf.head(341)"
      ]
    },
    {
      "cell_type": "code",
      "execution_count": null,
      "metadata": {
        "id": "nc7N1Ngq1XX0"
      },
      "outputs": [],
      "source": [
        "leaf_corr=leaf.corr()"
      ]
    },
    {
      "cell_type": "code",
      "execution_count": null,
      "metadata": {
        "colab": {
          "base_uri": "https://localhost:8080/",
          "height": 993
        },
        "id": "nDeuJ5yb2Igr",
        "outputId": "02f84293-9391-4bf2-c565-43b43d96df55"
      },
      "outputs": [
        {
          "output_type": "display_data",
          "data": {
            "text/plain": [
              "<Figure size 1440x1080 with 2 Axes>"
            ],
            "image/png": "[encoded data removed]"
          },
          "metadata": {
            "needs_background": "light"
          }
        }
      ],
      "source": [
        "import seaborn as sns\n",
        "import matplotlib.pyplot as plt\n",
        "plt.figure(figsize = (20,15))\n",
        "sns.heatmap(leaf_corr, cmap = 'coolwarm', annot=True)\n",
        "\n",
        "plt.show()"
      ]
    },
    {
      "cell_type": "code",
      "execution_count": null,
      "metadata": {
        "colab": {
          "base_uri": "https://localhost:8080/",
          "height": 771
        },
        "id": "nZl9e5mE9sb5",
        "outputId": "574614e9-c93e-4220-c135-8579b64bb7ae"
      },
      "outputs": [
        {
          "output_type": "execute_result",
          "data": {
            "text/plain": [
              "                           Class(species)  specimen number  Eccentricity  \\\n",
              "Class(species)                   1.000000        -0.015142      0.091415   \n",
              "specimen number                 -0.015142         1.000000     -0.076772   \n",
              "Eccentricity                     0.091415        -0.076772      1.000000   \n",
              "Aspect Ratio                     0.275210        -0.025490      0.551069   \n",
              "Elongation                       0.143867        -0.024615      0.554869   \n",
              "Solidity                         0.111843        -0.071623      0.373536   \n",
              "Stochastic Convexity             0.046678        -0.025219      0.386332   \n",
              "Isoperimetric Factor            -0.049767         0.004129     -0.036086   \n",
              "Maximal Indentation Depth       -0.039323         0.064834     -0.273430   \n",
              "Lobedness                       -0.019250         0.063936     -0.212853   \n",
              "Average Intensity                0.102453        -0.009725     -0.226307   \n",
              "Average Contrast                 0.072118        -0.010901     -0.196781   \n",
              "Smoothness                       0.094885         0.004628     -0.191061   \n",
              "Third moment                     0.058520         0.010632     -0.149555   \n",
              "Uniformity                       0.187718        -0.040405     -0.250343   \n",
              "Entropy                          0.017690        -0.033548     -0.239689   \n",
              "\n",
              "                           Aspect Ratio  Elongation  Solidity  \\\n",
              "Class(species)                 0.275210    0.143867  0.111843   \n",
              "specimen number               -0.025490   -0.024615 -0.071623   \n",
              "Eccentricity                   0.551069    0.554869  0.373536   \n",
              "Aspect Ratio                   1.000000    0.679819  0.005173   \n",
              "Elongation                     0.679819    1.000000 -0.406688   \n",
              "Solidity                       0.005173   -0.406688  1.000000   \n",
              "Stochastic Convexity           0.107148   -0.373786  0.862526   \n",
              "Isoperimetric Factor          -0.471024   -0.790880  0.755480   \n",
              "Maximal Indentation Depth      0.092287    0.434547 -0.886177   \n",
              "Lobedness                      0.122162    0.403601 -0.822948   \n",
              "Average Intensity             -0.282176   -0.202570  0.084869   \n",
              "Average Contrast              -0.299291   -0.186769  0.078990   \n",
              "Smoothness                    -0.263273   -0.176535  0.077565   \n",
              "Third moment                  -0.233767   -0.149193  0.058905   \n",
              "Uniformity                    -0.229362   -0.249129  0.126265   \n",
              "Entropy                       -0.312881   -0.209207  0.055589   \n",
              "\n",
              "                           Stochastic Convexity  Isoperimetric Factor  \\\n",
              "Class(species)                         0.046678             -0.049767   \n",
              "specimen number                       -0.025219              0.004129   \n",
              "Eccentricity                           0.386332             -0.036086   \n",
              "Aspect Ratio                           0.107148             -0.471024   \n",
              "Elongation                            -0.373786             -0.790880   \n",
              "Solidity                               0.862526              0.755480   \n",
              "Stochastic Convexity                   1.000000              0.655910   \n",
              "Isoperimetric Factor                   0.655910              1.000000   \n",
              "Maximal Indentation Depth             -0.769532             -0.736491   \n",
              "Lobedness                             -0.699166             -0.622837   \n",
              "Average Intensity                      0.063159              0.080628   \n",
              "Average Contrast                       0.055383              0.078290   \n",
              "Smoothness                             0.050713              0.074597   \n",
              "Third moment                           0.036619              0.066503   \n",
              "Uniformity                             0.106689              0.133145   \n",
              "Entropy                                0.052572              0.069783   \n",
              "\n",
              "                           Maximal Indentation Depth  Lobedness  \\\n",
              "Class(species)                             -0.039323  -0.019250   \n",
              "specimen number                             0.064834   0.063936   \n",
              "Eccentricity                               -0.273430  -0.212853   \n",
              "Aspect Ratio                                0.092287   0.122162   \n",
              "Elongation                                  0.434547   0.403601   \n",
              "Solidity                                   -0.886177  -0.822948   \n",
              "Stochastic Convexity                       -0.769532  -0.699166   \n",
              "Isoperimetric Factor                       -0.736491  -0.622837   \n",
              "Maximal Indentation Depth                   1.000000   0.945760   \n",
              "Lobedness                                   0.945760   1.000000   \n",
              "Average Intensity                          -0.091664  -0.168663   \n",
              "Average Contrast                           -0.088545  -0.174945   \n",
              "Smoothness                                 -0.061178  -0.149115   \n",
              "Third moment                               -0.026639  -0.119706   \n",
              "Uniformity                                 -0.137528  -0.168390   \n",
              "Entropy                                    -0.112214  -0.179890   \n",
              "\n",
              "                           Average Intensity  Average Contrast  Smoothness  \\\n",
              "Class(species)                      0.102453          0.072118    0.094885   \n",
              "specimen number                    -0.009725         -0.010901    0.004628   \n",
              "Eccentricity                       -0.226307         -0.196781   -0.191061   \n",
              "Aspect Ratio                       -0.282176         -0.299291   -0.263273   \n",
              "Elongation                         -0.202570         -0.186769   -0.176535   \n",
              "Solidity                            0.084869          0.078990    0.077565   \n",
              "Stochastic Convexity                0.063159          0.055383    0.050713   \n",
              "Isoperimetric Factor                0.080628          0.078290    0.074597   \n",
              "Maximal Indentation Depth          -0.091664         -0.088545   -0.061178   \n",
              "Lobedness                          -0.168663         -0.174945   -0.149115   \n",
              "Average Intensity                   1.000000          0.953388    0.955397   \n",
              "Average Contrast                    0.953388          1.000000    0.978264   \n",
              "Smoothness                          0.955397          0.978264    1.000000   \n",
              "Third moment                        0.821688          0.916697    0.951044   \n",
              "Uniformity                          0.804478          0.651356    0.639153   \n",
              "Entropy                             0.935708          0.858441    0.820406   \n",
              "\n",
              "                           Third moment  Uniformity   Entropy  \n",
              "Class(species)                 0.058520    0.187718  0.017690  \n",
              "specimen number                0.010632   -0.040405 -0.033548  \n",
              "Eccentricity                  -0.149555   -0.250343 -0.239689  \n",
              "Aspect Ratio                  -0.233767   -0.229362 -0.312881  \n",
              "Elongation                    -0.149193   -0.249129 -0.209207  \n",
              "Solidity                       0.058905    0.126265  0.055589  \n",
              "Stochastic Convexity           0.036619    0.106689  0.052572  \n",
              "Isoperimetric Factor           0.066503    0.133145  0.069783  \n",
              "Maximal Indentation Depth     -0.026639   -0.137528 -0.112214  \n",
              "Lobedness                     -0.119706   -0.168390 -0.179890  \n",
              "Average Intensity              0.821688    0.804478  0.935708  \n",
              "Average Contrast               0.916697    0.651356  0.858441  \n",
              "Smoothness                     0.951044    0.639153  0.820406  \n",
              "Third moment                   1.000000    0.409273  0.644978  \n",
              "Uniformity                     0.409273    1.000000  0.797800  \n",
              "Entropy                        0.644978    0.797800  1.000000  "
            ],
            "text/html": [
              "\n",
              "  <div id=\"df-56731d12-7614-41ba-a3e3-ca9258ab748f\">\n",
              "    <div class=\"colab-df-container\">\n",
              "      <div>\n",
              "<style scoped>\n",
              "    .dataframe tbody tr th:only-of-type {\n",
              "        vertical-align: middle;\n",
              "    }\n",
              "\n",
              "    .dataframe tbody tr th {\n",
              "        vertical-align: top;\n",
              "    }\n",
              "\n",
              "    .dataframe thead th {\n",
              "        text-align: right;\n",
              "    }\n",
              "</style>\n",
              "<table border=\"1\" class=\"dataframe\">\n",
              "  <thead>\n",
              "    <tr style=\"text-align: right;\">\n",
              "      <th></th>\n",
              "      <th>Class(species)</th>\n",
              "      <th>specimen number</th>\n",
              "      <th>Eccentricity</th>\n",
              "      <th>Aspect Ratio</th>\n",
              "      <th>Elongation</th>\n",
              "      <th>Solidity</th>\n",
              "      <th>Stochastic Convexity</th>\n",
              "      <th>Isoperimetric Factor</th>\n",
              "      <th>Maximal Indentation Depth</th>\n",
              "      <th>Lobedness</th>\n",
              "      <th>Average Intensity</th>\n",
              "      <th>Average Contrast</th>\n",
              "      <th>Smoothness</th>\n",
              "      <th>Third moment</th>\n",
              "      <th>Uniformity</th>\n",
              "      <th>Entropy</th>\n",
              "    </tr>\n",
              "  </thead>\n",
              "  <tbody>\n",
              "    <tr>\n",
              "      <th>Class(species)</th>\n",
              "      <td>1.000000</td>\n",
              "      <td>-0.015142</td>\n",
              "      <td>0.091415</td>\n",
              "      <td>0.275210</td>\n",
              "      <td>0.143867</td>\n",
              "      <td>0.111843</td>\n",
              "      <td>0.046678</td>\n",
              "      <td>-0.049767</td>\n",
              "      <td>-0.039323</td>\n",
              "      <td>-0.019250</td>\n",
              "      <td>0.102453</td>\n",
              "      <td>0.072118</td>\n",
              "      <td>0.094885</td>\n",
              "      <td>0.058520</td>\n",
              "      <td>0.187718</td>\n",
              "      <td>0.017690</td>\n",
              "    </tr>\n",
              "    <tr>\n",
              "      <th>specimen number</th>\n",
              "      <td>-0.015142</td>\n",
              "      <td>1.000000</td>\n",
              "      <td>-0.076772</td>\n",
              "      <td>-0.025490</td>\n",
              "      <td>-0.024615</td>\n",
              "      <td>-0.071623</td>\n",
              "      <td>-0.025219</td>\n",
              "      <td>0.004129</td>\n",
              "      <td>0.064834</td>\n",
              "      <td>0.063936</td>\n",
              "      <td>-0.009725</td>\n",
              "      <td>-0.010901</td>\n",
              "      <td>0.004628</td>\n",
              "      <td>0.010632</td>\n",
              "      <td>-0.040405</td>\n",
              "      <td>-0.033548</td>\n",
              "    </tr>\n",
              "    <tr>\n",
              "      <th>Eccentricity</th>\n",
              "      <td>0.091415</td>\n",
              "      <td>-0.076772</td>\n",
              "      <td>1.000000</td>\n",
              "      <td>0.551069</td>\n",
              "      <td>0.554869</td>\n",
              "      <td>0.373536</td>\n",
              "      <td>0.386332</td>\n",
              "      <td>-0.036086</td>\n",
              "      <td>-0.273430</td>\n",
              "      <td>-0.212853</td>\n",
              "      <td>-0.226307</td>\n",
              "      <td>-0.196781</td>\n",
              "      <td>-0.191061</td>\n",
              "      <td>-0.149555</td>\n",
              "      <td>-0.250343</td>\n",
              "      <td>-0.239689</td>\n",
              "    </tr>\n",
              "    <tr>\n",
              "      <th>Aspect Ratio</th>\n",
              "      <td>0.275210</td>\n",
              "      <td>-0.025490</td>\n",
              "      <td>0.551069</td>\n",
              "      <td>1.000000</td>\n",
              "      <td>0.679819</td>\n",
              "      <td>0.005173</td>\n",
              "      <td>0.107148</td>\n",
              "      <td>-0.471024</td>\n",
              "      <td>0.092287</td>\n",
              "      <td>0.122162</td>\n",
              "      <td>-0.282176</td>\n",
              "      <td>-0.299291</td>\n",
              "      <td>-0.263273</td>\n",
              "      <td>-0.233767</td>\n",
              "      <td>-0.229362</td>\n",
              "      <td>-0.312881</td>\n",
              "    </tr>\n",
              "    <tr>\n",
              "      <th>Elongation</th>\n",
              "      <td>0.143867</td>\n",
              "      <td>-0.024615</td>\n",
              "      <td>0.554869</td>\n",
              "      <td>0.679819</td>\n",
              "      <td>1.000000</td>\n",
              "      <td>-0.406688</td>\n",
              "      <td>-0.373786</td>\n",
              "      <td>-0.790880</td>\n",
              "      <td>0.434547</td>\n",
              "      <td>0.403601</td>\n",
              "      <td>-0.202570</td>\n",
              "      <td>-0.186769</td>\n",
              "      <td>-0.176535</td>\n",
              "      <td>-0.149193</td>\n",
              "      <td>-0.249129</td>\n",
              "      <td>-0.209207</td>\n",
              "    </tr>\n",
              "    <tr>\n",
              "      <th>Solidity</th>\n",
              "      <td>0.111843</td>\n",
              "      <td>-0.071623</td>\n",
              "      <td>0.373536</td>\n",
              "      <td>0.005173</td>\n",
              "      <td>-0.406688</td>\n",
              "      <td>1.000000</td>\n",
              "      <td>0.862526</td>\n",
              "      <td>0.755480</td>\n",
              "      <td>-0.886177</td>\n",
              "      <td>-0.822948</td>\n",
              "      <td>0.084869</td>\n",
              "      <td>0.078990</td>\n",
              "      <td>0.077565</td>\n",
              "      <td>0.058905</td>\n",
              "      <td>0.126265</td>\n",
              "      <td>0.055589</td>\n",
              "    </tr>\n",
              "    <tr>\n",
              "      <th>Stochastic Convexity</th>\n",
              "      <td>0.046678</td>\n",
              "      <td>-0.025219</td>\n",
              "      <td>0.386332</td>\n",
              "      <td>0.107148</td>\n",
              "      <td>-0.373786</td>\n",
              "      <td>0.862526</td>\n",
              "      <td>1.000000</td>\n",
              "      <td>0.655910</td>\n",
              "      <td>-0.769532</td>\n",
              "      <td>-0.699166</td>\n",
              "      <td>0.063159</td>\n",
              "      <td>0.055383</td>\n",
              "      <td>0.050713</td>\n",
              "      <td>0.036619</td>\n",
              "      <td>0.106689</td>\n",
              "      <td>0.052572</td>\n",
              "    </tr>\n",
              "    <tr>\n",
              "      <th>Isoperimetric Factor</th>\n",
              "      <td>-0.049767</td>\n",
              "      <td>0.004129</td>\n",
              "      <td>-0.036086</td>\n",
              "      <td>-0.471024</td>\n",
              "      <td>-0.790880</td>\n",
              "      <td>0.755480</td>\n",
              "      <td>0.655910</td>\n",
              "      <td>1.000000</td>\n",
              "      <td>-0.736491</td>\n",
              "      <td>-0.622837</td>\n",
              "      <td>0.080628</td>\n",
              "      <td>0.078290</td>\n",
              "      <td>0.074597</td>\n",
              "      <td>0.066503</td>\n",
              "      <td>0.133145</td>\n",
              "      <td>0.069783</td>\n",
              "    </tr>\n",
              "    <tr>\n",
              "      <th>Maximal Indentation Depth</th>\n",
              "      <td>-0.039323</td>\n",
              "      <td>0.064834</td>\n",
              "      <td>-0.273430</td>\n",
              "      <td>0.092287</td>\n",
              "      <td>0.434547</td>\n",
              "      <td>-0.886177</td>\n",
              "      <td>-0.769532</td>\n",
              "      <td>-0.736491</td>\n",
              "      <td>1.000000</td>\n",
              "      <td>0.945760</td>\n",
              "      <td>-0.091664</td>\n",
              "      <td>-0.088545</td>\n",
              "      <td>-0.061178</td>\n",
              "      <td>-0.026639</td>\n",
              "      <td>-0.137528</td>\n",
              "      <td>-0.112214</td>\n",
              "    </tr>\n",
              "    <tr>\n",
              "      <th>Lobedness</th>\n",
              "      <td>-0.019250</td>\n",
              "      <td>0.063936</td>\n",
              "      <td>-0.212853</td>\n",
              "      <td>0.122162</td>\n",
              "      <td>0.403601</td>\n",
              "      <td>-0.822948</td>\n",
              "      <td>-0.699166</td>\n",
              "      <td>-0.622837</td>\n",
              "      <td>0.945760</td>\n",
              "      <td>1.000000</td>\n",
              "      <td>-0.168663</td>\n",
              "      <td>-0.174945</td>\n",
              "      <td>-0.149115</td>\n",
              "      <td>-0.119706</td>\n",
              "      <td>-0.168390</td>\n",
              "      <td>-0.179890</td>\n",
              "    </tr>\n",
              "    <tr>\n",
              "      <th>Average Intensity</th>\n",
              "      <td>0.102453</td>\n",
              "      <td>-0.009725</td>\n",
              "      <td>-0.226307</td>\n",
              "      <td>-0.282176</td>\n",
              "      <td>-0.202570</td>\n",
              "      <td>0.084869</td>\n",
              "      <td>0.063159</td>\n",
              "      <td>0.080628</td>\n",
              "      <td>-0.091664</td>\n",
              "      <td>-0.168663</td>\n",
              "      <td>1.000000</td>\n",
              "      <td>0.953388</td>\n",
              "      <td>0.955397</td>\n",
              "      <td>0.821688</td>\n",
              "      <td>0.804478</td>\n",
              "      <td>0.935708</td>\n",
              "    </tr>\n",
              "    <tr>\n",
              "      <th>Average Contrast</th>\n",
              "      <td>0.072118</td>\n",
              "      <td>-0.010901</td>\n",
              "      <td>-0.196781</td>\n",
              "      <td>-0.299291</td>\n",
              "      <td>-0.186769</td>\n",
              "      <td>0.078990</td>\n",
              "      <td>0.055383</td>\n",
              "      <td>0.078290</td>\n",
              "      <td>-0.088545</td>\n",
              "      <td>-0.174945</td>\n",
              "      <td>0.953388</td>\n",
              "      <td>1.000000</td>\n",
              "      <td>0.978264</td>\n",
              "      <td>0.916697</td>\n",
              "      <td>0.651356</td>\n",
              "      <td>0.858441</td>\n",
              "    </tr>\n",
              "    <tr>\n",
              "      <th>Smoothness</th>\n",
              "      <td>0.094885</td>\n",
              "      <td>0.004628</td>\n",
              "      <td>-0.191061</td>\n",
              "      <td>-0.263273</td>\n",
              "      <td>-0.176535</td>\n",
              "      <td>0.077565</td>\n",
              "      <td>0.050713</td>\n",
              "      <td>0.074597</td>\n",
              "      <td>-0.061178</td>\n",
              "      <td>-0.149115</td>\n",
              "      <td>0.955397</td>\n",
              "      <td>0.978264</td>\n",
              "      <td>1.000000</td>\n",
              "      <td>0.951044</td>\n",
              "      <td>0.639153</td>\n",
              "      <td>0.820406</td>\n",
              "    </tr>\n",
              "    <tr>\n",
              "      <th>Third moment</th>\n",
              "      <td>0.058520</td>\n",
              "      <td>0.010632</td>\n",
              "      <td>-0.149555</td>\n",
              "      <td>-0.233767</td>\n",
              "      <td>-0.149193</td>\n",
              "      <td>0.058905</td>\n",
              "      <td>0.036619</td>\n",
              "      <td>0.066503</td>\n",
              "      <td>-0.026639</td>\n",
              "      <td>-0.119706</td>\n",
              "      <td>0.821688</td>\n",
              "      <td>0.916697</td>\n",
              "      <td>0.951044</td>\n",
              "      <td>1.000000</td>\n",
              "      <td>0.409273</td>\n",
              "      <td>0.644978</td>\n",
              "    </tr>\n",
              "    <tr>\n",
              "      <th>Uniformity</th>\n",
              "      <td>0.187718</td>\n",
              "      <td>-0.040405</td>\n",
              "      <td>-0.250343</td>\n",
              "      <td>-0.229362</td>\n",
              "      <td>-0.249129</td>\n",
              "      <td>0.126265</td>\n",
              "      <td>0.106689</td>\n",
              "      <td>0.133145</td>\n",
              "      <td>-0.137528</td>\n",
              "      <td>-0.168390</td>\n",
              "      <td>0.804478</td>\n",
              "      <td>0.651356</td>\n",
              "      <td>0.639153</td>\n",
              "      <td>0.409273</td>\n",
              "      <td>1.000000</td>\n",
              "      <td>0.797800</td>\n",
              "    </tr>\n",
              "    <tr>\n",
              "      <th>Entropy</th>\n",
              "      <td>0.017690</td>\n",
              "      <td>-0.033548</td>\n",
              "      <td>-0.239689</td>\n",
              "      <td>-0.312881</td>\n",
              "      <td>-0.209207</td>\n",
              "      <td>0.055589</td>\n",
              "      <td>0.052572</td>\n",
              "      <td>0.069783</td>\n",
              "      <td>-0.112214</td>\n",
              "      <td>-0.179890</td>\n",
              "      <td>0.935708</td>\n",
              "      <td>0.858441</td>\n",
              "      <td>0.820406</td>\n",
              "      <td>0.644978</td>\n",
              "      <td>0.797800</td>\n",
              "      <td>1.000000</td>\n",
              "    </tr>\n",
              "  </tbody>\n",
              "</table>\n",
              "</div>\n",
              "      <button class=\"colab-df-convert\" onclick=\"convertToInteractive('df-56731d12-7614-41ba-a3e3-ca9258ab748f')\"\n",
              "              title=\"Convert this dataframe to an interactive table.\"\n",
              "              style=\"display:none;\">\n",
              "        \n",
              "  <svg xmlns=\"http://www.w3.org/2000/svg\" height=\"24px\"viewBox=\"0 0 24 24\"\n",
              "       width=\"24px\">\n",
              "    <path d=\"M0 0h24v24H0V0z\" fill=\"none\"/>\n",
              "    <path d=\"M18.56 5.44l.94 2.06.94-2.06 2.06-.94-2.06-.94-.94-2.06-.94 2.06-2.06.94zm-11 1L8.5 8.5l.94-2.06 2.06-.94-2.06-.94L8.5 2.5l-.94 2.06-2.06.94zm10 10l.94 2.06.94-2.06 2.06-.94-2.06-.94-.94-2.06-.94 2.06-2.06.94z\"/><path d=\"M17.41 7.96l-1.37-1.37c-.4-.4-.92-.59-1.43-.59-.52 0-1.04.2-1.43.59L10.3 9.45l-7.72 7.72c-.78.78-.78 2.05 0 2.83L4 21.41c.39.39.9.59 1.41.59.51 0 1.02-.2 1.41-.59l7.78-7.78 2.81-2.81c.8-.78.8-2.07 0-2.86zM5.41 20L4 18.59l7.72-7.72 1.47 1.35L5.41 20z\"/>\n",
              "  </svg>\n",
              "      </button>\n",
              "      \n",
              "  <style>\n",
              "    .colab-df-container {\n",
              "      display:flex;\n",
              "      flex-wrap:wrap;\n",
              "      gap: 12px;\n",
              "    }\n",
              "\n",
              "    .colab-df-convert {\n",
              "      background-color: #E8F0FE;\n",
              "      border: none;\n",
              "      border-radius: 50%;\n",
              "      cursor: pointer;\n",
              "      display: none;\n",
              "      fill: #1967D2;\n",
              "      height: 32px;\n",
              "      padding: 0 0 0 0;\n",
              "      width: 32px;\n",
              "    }\n",
              "\n",
              "    .colab-df-convert:hover {\n",
              "      background-color: #E2EBFA;\n",
              "      box-shadow: 0px 1px 2px rgba(60, 64, 67, 0.3), 0px 1px 3px 1px rgba(60, 64, 67, 0.15);\n",
              "      fill: #174EA6;\n",
              "    }\n",
              "\n",
              "    [theme=dark] .colab-df-convert {\n",
              "      background-color: #3B4455;\n",
              "      fill: #D2E3FC;\n",
              "    }\n",
              "\n",
              "    [theme=dark] .colab-df-convert:hover {\n",
              "      background-color: #434B5C;\n",
              "      box-shadow: 0px 1px 3px 1px rgba(0, 0, 0, 0.15);\n",
              "      filter: drop-shadow(0px 1px 2px rgba(0, 0, 0, 0.3));\n",
              "      fill: #FFFFFF;\n",
              "    }\n",
              "  </style>\n",
              "\n",
              "      <script>\n",
              "        const buttonEl =\n",
              "          document.querySelector('#df-56731d12-7614-41ba-a3e3-ca9258ab748f button.colab-df-convert');\n",
              "        buttonEl.style.display =\n",
              "          google.colab.kernel.accessAllowed ? 'block' : 'none';\n",
              "\n",
              "        async function convertToInteractive(key) {\n",
              "          const element = document.querySelector('#df-56731d12-7614-41ba-a3e3-ca9258ab748f');\n",
              "          const dataTable =\n",
              "            await google.colab.kernel.invokeFunction('convertToInteractive',\n",
              "                                                     [key], {});\n",
              "          if (!dataTable) return;\n",
              "\n",
              "          const docLinkHtml = 'Like what you see? Visit the ' +\n",
              "            '<a target=\"_blank\" href=https://colab.research.google.com/notebooks/data_table.ipynb>data table notebook</a>'\n",
              "            + ' to learn more about interactive tables.';\n",
              "          element.innerHTML = '';\n",
              "          dataTable['output_type'] = 'display_data';\n",
              "          await google.colab.output.renderOutput(dataTable, element);\n",
              "          const docLink = document.createElement('div');\n",
              "          docLink.innerHTML = docLinkHtml;\n",
              "          element.appendChild(docLink);\n",
              "        }\n",
              "      </script>\n",
              "    </div>\n",
              "  </div>\n",
              "  "
            ]
          },
          "metadata": {},
          "execution_count": 589
        }
      ],
      "source": [
        "leaf.corr()"
      ]
    },
    {
      "cell_type": "code",
      "execution_count": null,
      "metadata": {
        "id": "5nI0xbs3JKmt"
      },
      "outputs": [],
      "source": [
        "def correlation(dataset,threshold):\n",
        "  col_corr=set()\n",
        "  corr_matrix=dataset.corr()\n",
        "  for i in range(len(corr_matrix.columns)):\n",
        "    for j in range(i):\n",
        "      if abs(corr_matrix.iloc[i,j])> threshold:\n",
        "        colname=corr_matrix.columns[i]\n",
        "        col_corr.add(colname)\n",
        "  return col_corr"
      ]
    },
    {
      "cell_type": "code",
      "execution_count": null,
      "metadata": {
        "colab": {
          "base_uri": "https://localhost:8080/"
        },
        "id": "4TYceMvTKuP3",
        "outputId": "9aea378e-f7c8-4c74-a2f7-dfe66baf4b7b"
      },
      "outputs": [
        {
          "output_type": "stream",
          "name": "stdout",
          "text": [
            "Number of correlated features:  9\n"
          ]
        }
      ],
      "source": [
        "# Take a minute to find the columns where the correlation value is greater than 0.75 at least twice\n",
        "corr_features=correlation(leaf,0.75)\n",
        "len(set(corr_features))\n",
        "print('Number of correlated features: ', len(set(corr_features)))"
      ]
    },
    {
      "cell_type": "code",
      "execution_count": null,
      "metadata": {
        "colab": {
          "base_uri": "https://localhost:8080/"
        },
        "id": "rT7anqB7LW8U",
        "outputId": "5ed7315f-3a8f-4dc8-c91f-09c2292122f7"
      },
      "outputs": [
        {
          "output_type": "stream",
          "name": "stdout",
          "text": [
            "correlated features are: {'Uniformity', 'Third moment', 'Stochastic Convexity', 'Maximal Indentation Depth', 'Lobedness', 'Isoperimetric Factor', 'Entropy', 'Average Contrast', 'Smoothness'}\n"
          ]
        }
      ],
      "source": [
        "print('correlated features are:', corr_features)"
      ]
    },
    {
      "cell_type": "code",
      "execution_count": null,
      "metadata": {
        "colab": {
          "base_uri": "https://localhost:8080/",
          "height": 424
        },
        "id": "eONu2fv08xvR",
        "outputId": "b3e6540a-6aa5-4f24-dd45-4351bc204f82"
      },
      "outputs": [
        {
          "output_type": "execute_result",
          "data": {
            "text/plain": [
              "     Class(species)  specimen number  Eccentricity  Aspect Ratio  Elongation  \\\n",
              "0                 1                1       0.72694        1.4742     0.32396   \n",
              "1                 1                2       0.74173        1.5257     0.36116   \n",
              "2                 1                3       0.76722        1.5725     0.38998   \n",
              "3                 1                4       0.73797        1.4597     0.35376   \n",
              "4                 1                5       0.82301        1.7707     0.44462   \n",
              "..              ...              ...           ...           ...         ...   \n",
              "335              36                6       0.37522        1.1417     0.81725   \n",
              "336              36                7       0.28064        1.0849     0.75319   \n",
              "337              36                8       0.35344        1.0329     0.78147   \n",
              "338              36                9       0.59988        1.1427     0.71532   \n",
              "339              36               10       0.47195        1.0901     0.85409   \n",
              "\n",
              "     Solidity  Average Intensity  \n",
              "0     0.98535           0.047790  \n",
              "1     0.98152           0.024160  \n",
              "2     0.97755           0.011897  \n",
              "3     0.97566           0.015950  \n",
              "4     0.97698           0.007938  \n",
              "..        ...                ...  \n",
              "335   0.68511           0.114880  \n",
              "336   0.72152           0.141220  \n",
              "337   0.70737           0.097663  \n",
              "338   0.66101           0.050389  \n",
              "339   0.53598           0.082007  \n",
              "\n",
              "[340 rows x 7 columns]"
            ],
            "text/html": [
              "\n",
              "  <div id=\"df-492ab855-2bc2-4b87-baca-ef4e8b10eaa4\">\n",
              "    <div class=\"colab-df-container\">\n",
              "      <div>\n",
              "<style scoped>\n",
              "    .dataframe tbody tr th:only-of-type {\n",
              "        vertical-align: middle;\n",
              "    }\n",
              "\n",
              "    .dataframe tbody tr th {\n",
              "        vertical-align: top;\n",
              "    }\n",
              "\n",
              "    .dataframe thead th {\n",
              "        text-align: right;\n",
              "    }\n",
              "</style>\n",
              "<table border=\"1\" class=\"dataframe\">\n",
              "  <thead>\n",
              "    <tr style=\"text-align: right;\">\n",
              "      <th></th>\n",
              "      <th>Class(species)</th>\n",
              "      <th>specimen number</th>\n",
              "      <th>Eccentricity</th>\n",
              "      <th>Aspect Ratio</th>\n",
              "      <th>Elongation</th>\n",
              "      <th>Solidity</th>\n",
              "      <th>Average Intensity</th>\n",
              "    </tr>\n",
              "  </thead>\n",
              "  <tbody>\n",
              "    <tr>\n",
              "      <th>0</th>\n",
              "      <td>1</td>\n",
              "      <td>1</td>\n",
              "      <td>0.72694</td>\n",
              "      <td>1.4742</td>\n",
              "      <td>0.32396</td>\n",
              "      <td>0.98535</td>\n",
              "      <td>0.047790</td>\n",
              "    </tr>\n",
              "    <tr>\n",
              "      <th>1</th>\n",
              "      <td>1</td>\n",
              "      <td>2</td>\n",
              "      <td>0.74173</td>\n",
              "      <td>1.5257</td>\n",
              "      <td>0.36116</td>\n",
              "      <td>0.98152</td>\n",
              "      <td>0.024160</td>\n",
              "    </tr>\n",
              "    <tr>\n",
              "      <th>2</th>\n",
              "      <td>1</td>\n",
              "      <td>3</td>\n",
              "      <td>0.76722</td>\n",
              "      <td>1.5725</td>\n",
              "      <td>0.38998</td>\n",
              "      <td>0.97755</td>\n",
              "      <td>0.011897</td>\n",
              "    </tr>\n",
              "    <tr>\n",
              "      <th>3</th>\n",
              "      <td>1</td>\n",
              "      <td>4</td>\n",
              "      <td>0.73797</td>\n",
              "      <td>1.4597</td>\n",
              "      <td>0.35376</td>\n",
              "      <td>0.97566</td>\n",
              "      <td>0.015950</td>\n",
              "    </tr>\n",
              "    <tr>\n",
              "      <th>4</th>\n",
              "      <td>1</td>\n",
              "      <td>5</td>\n",
              "      <td>0.82301</td>\n",
              "      <td>1.7707</td>\n",
              "      <td>0.44462</td>\n",
              "      <td>0.97698</td>\n",
              "      <td>0.007938</td>\n",
              "    </tr>\n",
              "    <tr>\n",
              "      <th>...</th>\n",
              "      <td>...</td>\n",
              "      <td>...</td>\n",
              "      <td>...</td>\n",
              "      <td>...</td>\n",
              "      <td>...</td>\n",
              "      <td>...</td>\n",
              "      <td>...</td>\n",
              "    </tr>\n",
              "    <tr>\n",
              "      <th>335</th>\n",
              "      <td>36</td>\n",
              "      <td>6</td>\n",
              "      <td>0.37522</td>\n",
              "      <td>1.1417</td>\n",
              "      <td>0.81725</td>\n",
              "      <td>0.68511</td>\n",
              "      <td>0.114880</td>\n",
              "    </tr>\n",
              "    <tr>\n",
              "      <th>336</th>\n",
              "      <td>36</td>\n",
              "      <td>7</td>\n",
              "      <td>0.28064</td>\n",
              "      <td>1.0849</td>\n",
              "      <td>0.75319</td>\n",
              "      <td>0.72152</td>\n",
              "      <td>0.141220</td>\n",
              "    </tr>\n",
              "    <tr>\n",
              "      <th>337</th>\n",
              "      <td>36</td>\n",
              "      <td>8</td>\n",
              "      <td>0.35344</td>\n",
              "      <td>1.0329</td>\n",
              "      <td>0.78147</td>\n",
              "      <td>0.70737</td>\n",
              "      <td>0.097663</td>\n",
              "    </tr>\n",
              "    <tr>\n",
              "      <th>338</th>\n",
              "      <td>36</td>\n",
              "      <td>9</td>\n",
              "      <td>0.59988</td>\n",
              "      <td>1.1427</td>\n",
              "      <td>0.71532</td>\n",
              "      <td>0.66101</td>\n",
              "      <td>0.050389</td>\n",
              "    </tr>\n",
              "    <tr>\n",
              "      <th>339</th>\n",
              "      <td>36</td>\n",
              "      <td>10</td>\n",
              "      <td>0.47195</td>\n",
              "      <td>1.0901</td>\n",
              "      <td>0.85409</td>\n",
              "      <td>0.53598</td>\n",
              "      <td>0.082007</td>\n",
              "    </tr>\n",
              "  </tbody>\n",
              "</table>\n",
              "<p>340 rows × 7 columns</p>\n",
              "</div>\n",
              "      <button class=\"colab-df-convert\" onclick=\"convertToInteractive('df-492ab855-2bc2-4b87-baca-ef4e8b10eaa4')\"\n",
              "              title=\"Convert this dataframe to an interactive table.\"\n",
              "              style=\"display:none;\">\n",
              "        \n",
              "  <svg xmlns=\"http://www.w3.org/2000/svg\" height=\"24px\"viewBox=\"0 0 24 24\"\n",
              "       width=\"24px\">\n",
              "    <path d=\"M0 0h24v24H0V0z\" fill=\"none\"/>\n",
              "    <path d=\"M18.56 5.44l.94 2.06.94-2.06 2.06-.94-2.06-.94-.94-2.06-.94 2.06-2.06.94zm-11 1L8.5 8.5l.94-2.06 2.06-.94-2.06-.94L8.5 2.5l-.94 2.06-2.06.94zm10 10l.94 2.06.94-2.06 2.06-.94-2.06-.94-.94-2.06-.94 2.06-2.06.94z\"/><path d=\"M17.41 7.96l-1.37-1.37c-.4-.4-.92-.59-1.43-.59-.52 0-1.04.2-1.43.59L10.3 9.45l-7.72 7.72c-.78.78-.78 2.05 0 2.83L4 21.41c.39.39.9.59 1.41.59.51 0 1.02-.2 1.41-.59l7.78-7.78 2.81-2.81c.8-.78.8-2.07 0-2.86zM5.41 20L4 18.59l7.72-7.72 1.47 1.35L5.41 20z\"/>\n",
              "  </svg>\n",
              "      </button>\n",
              "      \n",
              "  <style>\n",
              "    .colab-df-container {\n",
              "      display:flex;\n",
              "      flex-wrap:wrap;\n",
              "      gap: 12px;\n",
              "    }\n",
              "\n",
              "    .colab-df-convert {\n",
              "      background-color: #E8F0FE;\n",
              "      border: none;\n",
              "      border-radius: 50%;\n",
              "      cursor: pointer;\n",
              "      display: none;\n",
              "      fill: #1967D2;\n",
              "      height: 32px;\n",
              "      padding: 0 0 0 0;\n",
              "      width: 32px;\n",
              "    }\n",
              "\n",
              "    .colab-df-convert:hover {\n",
              "      background-color: #E2EBFA;\n",
              "      box-shadow: 0px 1px 2px rgba(60, 64, 67, 0.3), 0px 1px 3px 1px rgba(60, 64, 67, 0.15);\n",
              "      fill: #174EA6;\n",
              "    }\n",
              "\n",
              "    [theme=dark] .colab-df-convert {\n",
              "      background-color: #3B4455;\n",
              "      fill: #D2E3FC;\n",
              "    }\n",
              "\n",
              "    [theme=dark] .colab-df-convert:hover {\n",
              "      background-color: #434B5C;\n",
              "      box-shadow: 0px 1px 3px 1px rgba(0, 0, 0, 0.15);\n",
              "      filter: drop-shadow(0px 1px 2px rgba(0, 0, 0, 0.3));\n",
              "      fill: #FFFFFF;\n",
              "    }\n",
              "  </style>\n",
              "\n",
              "      <script>\n",
              "        const buttonEl =\n",
              "          document.querySelector('#df-492ab855-2bc2-4b87-baca-ef4e8b10eaa4 button.colab-df-convert');\n",
              "        buttonEl.style.display =\n",
              "          google.colab.kernel.accessAllowed ? 'block' : 'none';\n",
              "\n",
              "        async function convertToInteractive(key) {\n",
              "          const element = document.querySelector('#df-492ab855-2bc2-4b87-baca-ef4e8b10eaa4');\n",
              "          const dataTable =\n",
              "            await google.colab.kernel.invokeFunction('convertToInteractive',\n",
              "                                                     [key], {});\n",
              "          if (!dataTable) return;\n",
              "\n",
              "          const docLinkHtml = 'Like what you see? Visit the ' +\n",
              "            '<a target=\"_blank\" href=https://colab.research.google.com/notebooks/data_table.ipynb>data table notebook</a>'\n",
              "            + ' to learn more about interactive tables.';\n",
              "          element.innerHTML = '';\n",
              "          dataTable['output_type'] = 'display_data';\n",
              "          await google.colab.output.renderOutput(dataTable, element);\n",
              "          const docLink = document.createElement('div');\n",
              "          docLink.innerHTML = docLinkHtml;\n",
              "          element.appendChild(docLink);\n",
              "        }\n",
              "      </script>\n",
              "    </div>\n",
              "  </div>\n",
              "  "
            ]
          },
          "metadata": {},
          "execution_count": 593
        }
      ],
      "source": [
        "# Drop those columns from the DataFrame where the correlation value is greater than 0.75 at least twice \n",
        "to_drop = corr_features  \n",
        "\n",
        "leaf = leaf.drop(to_drop, axis=1)\n",
        "\n",
        "\n",
        "leaf.head(341)"
      ]
    },
    {
      "cell_type": "markdown",
      "metadata": {
        "id": "hjQMrkorTfs9"
      },
      "source": [
        "## Split the dataset into features and labels"
      ]
    },
    {
      "cell_type": "markdown",
      "metadata": {
        "id": "762jMLqRTfs_"
      },
      "source": [
        "### Use your intuition to determine which column indicates the labels.\n",
        "\n",
        "\n",
        "\n",
        "\n"
      ]
    },
    {
      "cell_type": "code",
      "execution_count": null,
      "metadata": {
        "colab": {
          "base_uri": "https://localhost:8080/"
        },
        "id": "hSogNKpxUEwk",
        "outputId": "d2fc387d-9e6d-4290-d0e1-ffff93507253"
      },
      "outputs": [
        {
          "output_type": "stream",
          "name": "stdout",
          "text": [
            "     specimen number  Eccentricity  Aspect Ratio  Elongation  Solidity  \\\n",
            "0                  1       0.72694        1.4742     0.32396   0.98535   \n",
            "1                  2       0.74173        1.5257     0.36116   0.98152   \n",
            "2                  3       0.76722        1.5725     0.38998   0.97755   \n",
            "3                  4       0.73797        1.4597     0.35376   0.97566   \n",
            "4                  5       0.82301        1.7707     0.44462   0.97698   \n",
            "..               ...           ...           ...         ...       ...   \n",
            "335                6       0.37522        1.1417     0.81725   0.68511   \n",
            "336                7       0.28064        1.0849     0.75319   0.72152   \n",
            "337                8       0.35344        1.0329     0.78147   0.70737   \n",
            "338                9       0.59988        1.1427     0.71532   0.66101   \n",
            "339               10       0.47195        1.0901     0.85409   0.53598   \n",
            "\n",
            "     Average Intensity  \n",
            "0             0.047790  \n",
            "1             0.024160  \n",
            "2             0.011897  \n",
            "3             0.015950  \n",
            "4             0.007938  \n",
            "..                 ...  \n",
            "335           0.114880  \n",
            "336           0.141220  \n",
            "337           0.097663  \n",
            "338           0.050389  \n",
            "339           0.082007  \n",
            "\n",
            "[340 rows x 6 columns]\n",
            "0       1\n",
            "1       1\n",
            "2       1\n",
            "3       1\n",
            "4       1\n",
            "       ..\n",
            "335    36\n",
            "336    36\n",
            "337    36\n",
            "338    36\n",
            "339    36\n",
            "Name: Class(species), Length: 340, dtype: int64\n"
          ]
        }
      ],
      "source": [
        "features=leaf.drop('Class(species)',axis=1)\n",
        "features.shape\n",
        "print(features)\n",
        "\n",
        "\n",
        "label = leaf['Class(species)']\n",
        "label.shape\n",
        "print(label)"
      ]
    },
    {
      "cell_type": "markdown",
      "metadata": {
        "id": "JuhnDE8qKNfG"
      },
      "source": [
        "## **Summary:**\n",
        "\n",
        "Basic Pipeline for solving a ML project:\n",
        "\n",
        "1. Read in Dataset\n",
        "\n",
        "2. Get to know your dataset using data vizualisation and other techniques\n",
        "\n",
        "3. Preprocess your dataset:\n",
        "\n",
        "  * remove/impute null values\n",
        "  * remove outliers\n",
        "  * feature scaling\n",
        "  * feature engineering\n",
        "  * feature selection\n",
        "\n",
        "4. train/test split\n",
        "5. choose and build (number of) machine learning algorithm\n",
        "5. train model on training data\n",
        "6. make prediction on test data\n",
        "7. evaluate performance on test data\n",
        "8. visualization of your results\n",
        "\n"
      ]
    },
    {
      "cell_type": "markdown",
      "source": [
        "#**Support Vector Machine (SVM), Neural Network (Multilayer Perceptron Classifier) and Random Forest**"
      ],
      "metadata": {
        "id": "7XTldrDGQb40"
      }
    },
    {
      "cell_type": "markdown",
      "source": [
        "##3. Support Vector Machine (SVM), Neural Network (Multilayer Perceptron Classifier) and Random Forest are three very popular machine learning classifiers. Divide the dataset into 8:2 train-test split and perform Support Vector Machine, Neural Network (MLPClassifier) and Random Forest on it using sklearn library. In the previous assignment, you have already used Logistic Regression and decision tree classifiers from the sklearn library. Just change the imports and the function calls to use other classifiers. Take a look at the sklearn documentation for further information."
      ],
      "metadata": {
        "id": "8AnKn8eTRB5v"
      }
    },
    {
      "cell_type": "code",
      "source": [
        "#Prepare the training set\n",
        "\n",
        "# X = feature values, all the columns except the first column\n",
        "X = features\n",
        "\n",
        "# y = target values, first column of the data frame\n",
        "y = label"
      ],
      "metadata": {
        "id": "l1ZGknD-Rcw0"
      },
      "execution_count": null,
      "outputs": []
    },
    {
      "cell_type": "code",
      "source": [
        "#Split the data into 80% training and 20% testing or Use 8:2 train-test split\n",
        "x_train, x_test, y_train, y_test = train_test_split(X, y, test_size=0.2, random_state=42)"
      ],
      "metadata": {
        "id": "NzaI2mk3RmWU"
      },
      "execution_count": null,
      "outputs": []
    },
    {
      "cell_type": "markdown",
      "source": [
        "###Perform Support Vector Machine"
      ],
      "metadata": {
        "id": "oHnFpQin9tcC"
      }
    },
    {
      "cell_type": "code",
      "source": [
        "from sklearn.svm import SVC\n",
        "svc= SVC(kernel=\"linear\")\n",
        "svc.fit(x_train, y_train)\n"
      ],
      "metadata": {
        "colab": {
          "base_uri": "https://localhost:8080/"
        },
        "id": "tpBfEst8RqV-",
        "outputId": "8de802ff-afaa-4870-bd89-aa41702e4a7a"
      },
      "execution_count": null,
      "outputs": [
        {
          "output_type": "execute_result",
          "data": {
            "text/plain": [
              "SVC(kernel='linear')"
            ]
          },
          "metadata": {},
          "execution_count": 597
        }
      ]
    },
    {
      "cell_type": "markdown",
      "source": [
        "#### Evaluating the SVC model"
      ],
      "metadata": {
        "id": "MBjY1wm2tann"
      }
    },
    {
      "cell_type": "code",
      "source": [
        "print(\"Training accuracy of the SVC model is {:.2f}\".format(svc.score(x_train, y_train)))\n",
        "print(\"Testing accuracy of the SVC model is {:.2f}\".format(svc.score(x_test, y_test)))"
      ],
      "metadata": {
        "colab": {
          "base_uri": "https://localhost:8080/"
        },
        "id": "JaGPAK1VtS6A",
        "outputId": "c79f685d-4bc9-492a-ffc3-e2604a2702ea"
      },
      "execution_count": null,
      "outputs": [
        {
          "output_type": "stream",
          "name": "stdout",
          "text": [
            "Training accuracy of the SVC model is 0.26\n",
            "Testing accuracy of the SVC model is 0.24\n"
          ]
        }
      ]
    },
    {
      "cell_type": "code",
      "source": [
        "pre_svc_train_accuracy=svc.score(x_train, y_train)\n",
        "pre_svc_test_accuracy=svc.score(x_test, y_test)"
      ],
      "metadata": {
        "id": "tjCdDO1ovtXY"
      },
      "execution_count": null,
      "outputs": []
    },
    {
      "cell_type": "markdown",
      "source": [
        "###Perform Neural Network (MLPClassifier) "
      ],
      "metadata": {
        "id": "86lnh89896lA"
      }
    },
    {
      "cell_type": "code",
      "source": [
        "from sklearn.neural_network import MLPClassifier\n",
        "nnc= MLPClassifier(activation=\"relu\",hidden_layer_sizes=(7),max_iter=10000)\n",
        "nnc.fit(x_train, y_train)\n"
      ],
      "metadata": {
        "colab": {
          "base_uri": "https://localhost:8080/"
        },
        "id": "ZOJ-IfwTSEi7",
        "outputId": "6a9d78fa-aada-4aa8-bf89-d57f6ceb4e93"
      },
      "execution_count": null,
      "outputs": [
        {
          "output_type": "execute_result",
          "data": {
            "text/plain": [
              "MLPClassifier(hidden_layer_sizes=7, max_iter=10000)"
            ]
          },
          "metadata": {},
          "execution_count": 600
        }
      ]
    },
    {
      "cell_type": "markdown",
      "source": [
        "###Evaluating the NNC model"
      ],
      "metadata": {
        "id": "Ft70faQmurvv"
      }
    },
    {
      "cell_type": "code",
      "source": [
        "print(\"Training accuracy of the NNC model is {:.2f}\".format(nnc.score(x_train, y_train)))\n",
        "print(\"Testing accuracy of the NNC model is {:.2f}\".format(nnc.score(x_test, y_test)))"
      ],
      "metadata": {
        "colab": {
          "base_uri": "https://localhost:8080/"
        },
        "id": "unlKch39u0J2",
        "outputId": "4aa06078-22c5-4d86-e144-63529e43ac9c"
      },
      "execution_count": null,
      "outputs": [
        {
          "output_type": "stream",
          "name": "stdout",
          "text": [
            "Training accuracy of the NNC model is 0.64\n",
            "Testing accuracy of the NNC model is 0.47\n"
          ]
        }
      ]
    },
    {
      "cell_type": "code",
      "source": [
        "pre_nnc_train_accuracy=nnc.score(x_train, y_train)\n",
        "pre_nnc_test_accuracy=nnc.score(x_test, y_test)"
      ],
      "metadata": {
        "id": "F0VusqAswVG-"
      },
      "execution_count": null,
      "outputs": []
    },
    {
      "cell_type": "markdown",
      "source": [
        "##Perform Random Forest"
      ],
      "metadata": {
        "id": "gVqwONhg-GaZ"
      }
    },
    {
      "cell_type": "code",
      "source": [
        "from sklearn.ensemble import RandomForestClassifier\n",
        "rfc= RandomForestClassifier(n_estimators=50)\n",
        "rfc.fit(x_train, y_train)\n"
      ],
      "metadata": {
        "colab": {
          "base_uri": "https://localhost:8080/"
        },
        "id": "4ZH6-CprSQPL",
        "outputId": "c3a07b9a-c161-4986-e314-e5a3b2f775b1"
      },
      "execution_count": null,
      "outputs": [
        {
          "output_type": "execute_result",
          "data": {
            "text/plain": [
              "RandomForestClassifier(n_estimators=50)"
            ]
          },
          "metadata": {},
          "execution_count": 603
        }
      ]
    },
    {
      "cell_type": "markdown",
      "source": [
        "###Evaluating the RFC model"
      ],
      "metadata": {
        "id": "InC4W4XEwvyV"
      }
    },
    {
      "cell_type": "code",
      "source": [
        "print(\"Training accuracy of the RFC model is {:.2f}\".format(rfc.score(x_train, y_train)))\n",
        "print(\"Testing accuracy of the RFC model is {:.2f}\".format(rfc.score(x_test, y_test)))"
      ],
      "metadata": {
        "colab": {
          "base_uri": "https://localhost:8080/"
        },
        "id": "BHaW6koEtUmX",
        "outputId": "e91d2f52-ac27-4792-81d0-86d04759f3af"
      },
      "execution_count": null,
      "outputs": [
        {
          "output_type": "stream",
          "name": "stdout",
          "text": [
            "Training accuracy of the RFC model is 1.00\n",
            "Testing accuracy of the RFC model is 0.65\n"
          ]
        }
      ]
    },
    {
      "cell_type": "code",
      "source": [
        "pre_rfc_train_accuracy=rfc.score(x_train, y_train)\n",
        "pre_rfc_test_accuracy=rfc.score(x_test, y_test)"
      ],
      "metadata": {
        "id": "l3pgfvOHw29n"
      },
      "execution_count": null,
      "outputs": []
    },
    {
      "cell_type": "markdown",
      "source": [
        "##4. Perform dimensionality reduction using PCA. Reduce the number of feature vectors into half (e.g. if your dataset has 10 columns, after applying PCA it should have 5 columns)"
      ],
      "metadata": {
        "id": "gV7lRskBRIDD"
      }
    },
    {
      "cell_type": "code",
      "source": [
        "from sklearn.decomposition import PCA \n",
        "pca = PCA(n_components=3)\n",
        "pca.fit(x_train)\n",
        "x_train_pca = pca.transform(x_train)\n",
        "x_test_pca = pca.transform(x_test)"
      ],
      "metadata": {
        "id": "3Iqyb9kSSdpT"
      },
      "execution_count": null,
      "outputs": []
    },
    {
      "cell_type": "markdown",
      "source": [
        "##5.Apply Support Vector Machine, Neural Network (MLPClassifier) and Random Forest again on the reduced dataset."
      ],
      "metadata": {
        "id": "fzcN0M9lRNRW"
      }
    },
    {
      "cell_type": "code",
      "source": [
        "#SVC after PCA\n",
        "from sklearn.svm import SVC\n",
        "svc= SVC(kernel=\"linear\")\n",
        "svc.fit(x_train_pca, y_train)\n",
        "\n",
        "#Evaluating the SVC model after performing PCA\n",
        "print(\"Training accuracy of the SVC model after performing PCA is {:.2f}\".format(svc.score(x_train_pca, y_train)))\n",
        "print(\"Testing accuracy of the SVC model after performing PCA is {:.2f}\".format(svc.score(x_test_pca, y_test)))\n",
        "post_svc_train_accuracy=svc.score(x_train_pca, y_train)\n",
        "post_svc_test_accuracy=svc.score(x_test_pca, y_test)\n"
      ],
      "metadata": {
        "colab": {
          "base_uri": "https://localhost:8080/"
        },
        "id": "sjGrNqz9SoMz",
        "outputId": "95b079cc-15e7-4277-d028-fb586630c649"
      },
      "execution_count": null,
      "outputs": [
        {
          "output_type": "stream",
          "name": "stdout",
          "text": [
            "Training accuracy of the SVC model after performing PCA is 0.24\n",
            "Testing accuracy of the SVC model after performing PCA is 0.22\n"
          ]
        }
      ]
    },
    {
      "cell_type": "code",
      "source": [
        "#Neural Network after PCA\n",
        "from sklearn.neural_network import MLPClassifier\n",
        "nnc= MLPClassifier(activation=\"relu\",hidden_layer_sizes=(7),max_iter=10000)\n",
        "nnc.fit(x_train_pca, y_train)\n",
        "\n",
        "#Evaluating the NNC model after performing PCA\n",
        "print(\"Training accuracy of the NNC model after performing PCAis {:.2f}\".format(nnc.score(x_train_pca, y_train)))\n",
        "print(\"Testing accuracy of the NNC model after performing PCAis {:.2f}\".format(nnc.score(x_test_pca, y_test)))\n",
        "post_nnc_train_accuracy=svc.score(x_train_pca, y_train)\n",
        "post_nnc_test_accuracy=svc.score(x_test_pca, y_test)\n",
        "\n"
      ],
      "metadata": {
        "colab": {
          "base_uri": "https://localhost:8080/"
        },
        "id": "IuBDly-jS5SV",
        "outputId": "8f3d8b4d-2b90-47ed-969d-801fec3c01ca"
      },
      "execution_count": null,
      "outputs": [
        {
          "output_type": "stream",
          "name": "stdout",
          "text": [
            "Training accuracy of the NNC model after performing PCAis 0.35\n",
            "Testing accuracy of the NNC model after performing PCAis 0.19\n"
          ]
        }
      ]
    },
    {
      "cell_type": "code",
      "source": [
        "#Random Forest after PCA\n",
        "from sklearn.ensemble import RandomForestClassifier\n",
        "rfc= RandomForestClassifier(n_estimators=50)\n",
        "rfc.fit(x_train_pca, y_train)\n",
        "\n",
        "#Evaluating the RFC model after performing PCA\n",
        "print(\"Training accuracy of the RFC model after performing PCA is {:.2f}\".format(rfc.score(x_train_pca, y_train)))\n",
        "print(\"Testing accuracy of the RFC model after performing PCA is {:.2f}\".format(rfc.score(x_test_pca, y_test)))\n",
        "post_rfc_train_accuracy=svc.score(x_train_pca, y_train)\n",
        "post_rfc_test_accuracy=svc.score(x_test_pca, y_test)\n",
        "\n"
      ],
      "metadata": {
        "colab": {
          "base_uri": "https://localhost:8080/"
        },
        "id": "HVr5sNYUTCyz",
        "outputId": "a7e5bd92-db1e-423e-9e75-23224d00d1a5"
      },
      "execution_count": null,
      "outputs": [
        {
          "output_type": "stream",
          "name": "stdout",
          "text": [
            "Training accuracy of the RFC model after performing PCA is 1.00\n",
            "Testing accuracy of the RFC model after performing PCA is 0.24\n"
          ]
        }
      ]
    },
    {
      "cell_type": "markdown",
      "source": [
        "##6. Compare the accuracy of the pre-PCA and post-PCA results. Plot them against each other in a bar graph."
      ],
      "metadata": {
        "id": "eLYkyjOXRSud"
      }
    },
    {
      "cell_type": "code",
      "source": [
        "# Comparing Pre-PCA SVC & Post_PCA SVC of train set\n",
        "import matplotlib.pyplot as plt\n",
        "fig = plt.figure(figsize = (5, 10))\n",
        "plt.bar(['Pre-PCA SVC Train', 'Post-PCA SVC Train'], [pre_svc_train_accuracy,post_svc_train_accuracy], color =['royalblue', 'seagreen'], width = 0.5)\n",
        "plt.ylabel(\"Acccuracy\")\n",
        "plt.xlabel(\"Types\")\n",
        "plt.title(\"Comparison\")\n",
        "plt.text(-0.07, pre_svc_train_accuracy+0.001, round(pre_svc_train_accuracy, 2) )\n",
        "plt.text(0.92, post_svc_train_accuracy+0.001, round(post_svc_train_accuracy , 2) )\n",
        "plt.show()"
      ],
      "metadata": {
        "colab": {
          "base_uri": "https://localhost:8080/",
          "height": 621
        },
        "id": "xbK9eYZCVN5k",
        "outputId": "068dfd35-7b2a-42e8-d2db-cb9f55ef7571"
      },
      "execution_count": null,
      "outputs": [
        {
          "output_type": "display_data",
          "data": {
            "text/plain": [
              "<Figure size 360x720 with 1 Axes>"
            ],
            "image/png": "[encoded data removed]"
          },
          "metadata": {
            "needs_background": "light"
          }
        }
      ]
    },
    {
      "cell_type": "code",
      "source": [
        "# Comparing Pre-PCA SVC & Post_PCA SVC of test set\n",
        "import matplotlib.pyplot as plt\n",
        "fig = plt.figure(figsize = (5, 10))\n",
        "plt.bar(['Pre-PCA SVC Test', 'Post-PCA SVC Test'], [pre_svc_test_accuracy,post_svc_test_accuracy], color =['royalblue', 'seagreen'], width = 0.5)\n",
        "plt.ylabel(\"Acccuracy\")\n",
        "plt.xlabel(\"Types\")\n",
        "plt.title(\"Comparison\")\n",
        "plt.text(-0.07, pre_svc_test_accuracy+0.001, round(pre_svc_test_accuracy, 2) )\n",
        "plt.text(0.92, post_svc_test_accuracy+0.001, round(post_svc_test_accuracy , 2) )\n",
        "plt.show()"
      ],
      "metadata": {
        "colab": {
          "base_uri": "https://localhost:8080/",
          "height": 621
        },
        "id": "RfrPwNzgz5fu",
        "outputId": "fd131aaa-b271-46bf-c137-ac6233cc66c6"
      },
      "execution_count": null,
      "outputs": [
        {
          "output_type": "display_data",
          "data": {
            "text/plain": [
              "<Figure size 360x720 with 1 Axes>"
            ],
            "image/png": "[encoded data removed]"
          },
          "metadata": {
            "needs_background": "light"
          }
        }
      ]
    },
    {
      "cell_type": "code",
      "source": [
        "# Comparing Pre-PCA Neural Network & Post_PCA Neural Network train set\n",
        "import matplotlib.pyplot as plt\n",
        "fig = plt.figure(figsize = (5, 10))\n",
        "plt.bar(['Pre-PCA NNC Train', 'Post-PCA NNC Train'], [pre_nnc_train_accuracy,post_svc_train_accuracy], color =['royalblue', 'seagreen'], width = 0.5)\n",
        "plt.ylabel(\"Acccuracy\")\n",
        "plt.xlabel(\"Types\")\n",
        "plt.title(\"Comparison\")\n",
        "plt.text(-0.07, pre_nnc_train_accuracy+0.01, round(pre_nnc_train_accuracy, 2) )\n",
        "plt.text(0.92, post_nnc_train_accuracy+0.01, round(post_nnc_train_accuracy, 2) )\n",
        "plt.show()\n"
      ],
      "metadata": {
        "colab": {
          "base_uri": "https://localhost:8080/",
          "height": 621
        },
        "id": "PpSEBij5WqS6",
        "outputId": "9c29b91d-281b-41a9-f2ea-752cde6dd2c6"
      },
      "execution_count": null,
      "outputs": [
        {
          "output_type": "display_data",
          "data": {
            "text/plain": [
              "<Figure size 360x720 with 1 Axes>"
            ],
            "image/png": "[encoded data removed]"
          },
          "metadata": {
            "needs_background": "light"
          }
        }
      ]
    },
    {
      "cell_type": "code",
      "source": [
        "# Comparing Pre-PCA Neural Network & Post_PCA Neural Network test set\n",
        "import matplotlib.pyplot as plt\n",
        "fig = plt.figure(figsize = (5, 10))\n",
        "plt.bar(['Pre-PCA NNC Test', 'Post-PCA NNC Test'], [pre_nnc_test_accuracy,post_svc_test_accuracy], color =['royalblue', 'seagreen'], width = 0.5)\n",
        "plt.ylabel(\"Acccuracy\")\n",
        "plt.xlabel(\"Types\")\n",
        "plt.title(\"Comparison\")\n",
        "plt.text(-0.07, pre_nnc_test_accuracy+0.003, round(pre_nnc_test_accuracy, 2) )\n",
        "plt.text(0.92, post_nnc_test_accuracy+0.003, round(post_nnc_test_accuracy, 2) )\n",
        "plt.show()"
      ],
      "metadata": {
        "colab": {
          "base_uri": "https://localhost:8080/",
          "height": 621
        },
        "id": "7SUM5ZiJ2AC0",
        "outputId": "9cead528-0f37-4f02-ea8a-b4c51abc5e21"
      },
      "execution_count": null,
      "outputs": [
        {
          "output_type": "display_data",
          "data": {
            "text/plain": [
              "<Figure size 360x720 with 1 Axes>"
            ],
            "image/png": "[encoded data removed]"
          },
          "metadata": {
            "needs_background": "light"
          }
        }
      ]
    },
    {
      "cell_type": "code",
      "source": [
        "# Comparing Pre-PCA Random Forest & Post_PCA Random Forest train set\n",
        "import matplotlib.pyplot as plt\n",
        "fig = plt.figure(figsize = (5, 10))\n",
        "plt.bar(['Pre-PCA RFC Train', 'Post-PCA RFC Train'], [pre_rfc_train_accuracy,post_rfc_train_accuracy], color =['royalblue', 'seagreen'], width = 0.5)\n",
        "plt.ylabel(\"Acccuracy\")\n",
        "plt.xlabel(\"Types\")\n",
        "plt.title(\"Comparison\")\n",
        "plt.text(-0.07, pre_rfc_train_accuracy+0.01, round(pre_rfc_train_accuracy, 2) )\n",
        "plt.text(0.92, post_rfc_train_accuracy+0.01, round(post_rfc_train_accuracy, 2) )\n",
        "plt.show()\n",
        "\n"
      ],
      "metadata": {
        "colab": {
          "base_uri": "https://localhost:8080/",
          "height": 621
        },
        "id": "qXVOMCApXl25",
        "outputId": "f41b67e9-98a2-40a1-fbb4-afcabaced2f2"
      },
      "execution_count": null,
      "outputs": [
        {
          "output_type": "display_data",
          "data": {
            "text/plain": [
              "<Figure size 360x720 with 1 Axes>"
            ],
            "image/png": "[encoded data removed]"
          },
          "metadata": {
            "needs_background": "light"
          }
        }
      ]
    },
    {
      "cell_type": "code",
      "source": [
        "# Comparing Pre-PCA Random Forest & Post_PCA Random Forest test set\n",
        "import matplotlib.pyplot as plt\n",
        "fig = plt.figure(figsize = (5, 10))\n",
        "plt.bar(['Pre-PCA RFC Test', 'Post-PCA RFC Test'], [pre_rfc_test_accuracy,post_rfc_test_accuracy], color =['royalblue', 'seagreen'], width = 0.5)\n",
        "plt.ylabel(\"Acccuracy\")\n",
        "plt.xlabel(\"Types\")\n",
        "plt.title(\"Comparison\")\n",
        "plt.text(-0.07, pre_rfc_test_accuracy+0.01, round(pre_rfc_test_accuracy, 2) )\n",
        "plt.text(0.92, post_rfc_test_accuracy+0.01, round(post_rfc_test_accuracy, 2) )\n",
        "plt.show()\n",
        "\n",
        "\n"
      ],
      "metadata": {
        "colab": {
          "base_uri": "https://localhost:8080/",
          "height": 621
        },
        "id": "EG7Bd1P_4AjT",
        "outputId": "4c3c5b45-c434-413b-8770-75c3059ea722"
      },
      "execution_count": null,
      "outputs": [
        {
          "output_type": "display_data",
          "data": {
            "text/plain": [
              "<Figure size 360x720 with 1 Axes>"
            ],
            "image/png": "[encoded data removed]"
          },
          "metadata": {
            "needs_background": "light"
          }
        }
      ]
    }
  ]
}